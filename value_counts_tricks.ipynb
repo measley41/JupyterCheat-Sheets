{
 "cells": [
  {
   "cell_type": "markdown",
   "id": "1aa65846",
   "metadata": {},
   "source": [
    "\n",
    "[8 Python Pandas Value_counts() tricks that make your work more efficient](https://re-thought.com/pandas-value_counts) by [Anna Zverkova](https://re-thought.com/author/anna/)\n",
    "\n",
    "[Introduction](#intro)  \n",
    "\n"
   ]
  },
  {
   "cell_type": "markdown",
   "id": "c0c4048e",
   "metadata": {},
   "source": [
    "[Return to Top](#Contents)\n",
    "<a id=\"intro\"></a>\n",
    "### Introduction\n",
    "#### Syntax\n",
    "`df['your_column'].value_counts()` will return the count of unique occurences in the specified column.\n",
    "\n",
    "#### Parameters\n",
    "\n",
    "- **normalize (bool, default False)** - If True, then the object returned will contain the relative frequencies of the unique values.  \n",
    "- **sort (bool, default True)** - Sort by frequencies  \n",
    "- **ascending (bool, default False)** - Sort in ascending order.\n",
    "- **bins (int, optional)** - Rather than count values, group them into half-open bins, a convenience for `pd.cut`, only works with numeric data.  \n",
    "- **dropna (bool, default True)** - Don't include counts of NaN."
   ]
  },
  {
   "cell_type": "code",
   "execution_count": null,
   "id": "d72f5ad3",
   "metadata": {},
   "outputs": [],
   "source": [
    "#import packages\n",
    "import pandas as pd\n",
    "\n",
    "df = pd.read_csv('coursea_data.csv')\n",
    "df.head(10)"
   ]
  },
  {
   "cell_type": "code",
   "execution_count": null,
   "id": "a48d0565",
   "metadata": {},
   "outputs": [],
   "source": [
    "# check how many records are in the dataset \n",
    "# and if we have any NA\n",
    "df.info()"
   ]
  },
  {
   "cell_type": "markdown",
   "id": "262799a8",
   "metadata": {},
   "source": [
    "This tells us that we have 891 records in our dataset and that we don't have any NA values."
   ]
  },
  {
   "cell_type": "markdown",
   "id": "d16cecd9",
   "metadata": {},
   "source": [
    "[Return to Top](#Contents)\n",
    "<a id='defaults'></a>\n",
    "### 1.) value_counts() with default parameters\n",
    "\n",
    "**Syntax** - `df['your_column'].value_counts()`"
   ]
  },
  {
   "cell_type": "code",
   "execution_count": null,
   "id": "101a813b",
   "metadata": {},
   "outputs": [],
   "source": [
    "df['course_difficulty'].value_counts()"
   ]
  },
  {
   "cell_type": "markdown",
   "id": "9bbb7047",
   "metadata": {},
   "source": [
    "The `value_counts` function returns the count of all unique values in the given index in descending order without any null values.\n",
    "\n",
    "### 2.) value_counts() in ascending order\n",
    "The series returned by `value_counts()` is in descending order by default.  We can reverse the case by setting the `ascending` parameter to `True`.\n",
    "\n",
    "**Syntax** - `df['your_column'].value_counts(ascending=True)`"
   ]
  },
  {
   "cell_type": "code",
   "execution_count": null,
   "id": "5a09f0a0",
   "metadata": {},
   "outputs": [],
   "source": [
    "# count of all unique values for the column course_difficulty \n",
    "# in ascending order\n",
    "df['course_difficulty'].value_counts(ascending=True)"
   ]
  },
  {
   "cell_type": "markdown",
   "id": "2c8dac36",
   "metadata": {},
   "source": [
    "### 3.) value_counts() sorted alphabetically\n",
    "In some cases it is necessary to display your value_counts in alphabetical order.  \n",
    "This can be done easily by adding sort index `sort_index(ascending=True)` after your value_counts().\n",
    "\n",
    "Default value_counts() for column \"course_difficulty\" sorts values by counts:"
   ]
  },
  {
   "cell_type": "code",
   "execution_count": null,
   "id": "1912aa4e",
   "metadata": {},
   "outputs": [],
   "source": [
    "df['course_difficulty'].value_counts()"
   ]
  },
  {
   "cell_type": "markdown",
   "id": "41f546e9",
   "metadata": {},
   "source": [
    "Value_counts() with sort_index(ascending=True) sorts by index (column that you are running value_counts() on:"
   ]
  },
  {
   "cell_type": "code",
   "execution_count": null,
   "id": "e9acc77b",
   "metadata": {},
   "outputs": [],
   "source": [
    "df['course_difficulty'].value_counts().sort_index(ascending=True)"
   ]
  },
  {
   "cell_type": "markdown",
   "id": "6354b251",
   "metadata": {},
   "source": [
    "If you want to list value_counts() in reverse alphabetical order you will need to change ascending to False `sort_index(ascending=False)`"
   ]
  },
  {
   "cell_type": "code",
   "execution_count": null,
   "id": "746b744a",
   "metadata": {},
   "outputs": [],
   "source": [
    "df['course_difficulty'].value_counts().sort_index(ascending=False)"
   ]
  },
  {
   "cell_type": "markdown",
   "id": "60400639",
   "metadata": {},
   "source": [
    "### 4.) Pandas value_counts(): sort by value, then alphabetically\n",
    "Lets use for this example a slightly different dataframe."
   ]
  },
  {
   "cell_type": "code",
   "execution_count": null,
   "id": "df77b643",
   "metadata": {},
   "outputs": [],
   "source": [
    "df_fruit = pd.DataFrame({\n",
    "    'fruit':\n",
    "    ['sharon fruit']*5 + ['apples']*5 + ['bananas']*3 +\n",
    "    ['nectarines']*3 + ['carrots']*3 + ['apricots'] + ['mango']*2\n",
    "})"
   ]
  },
  {
   "cell_type": "markdown",
   "id": "bd40381f",
   "metadata": {},
   "source": [
    "Here we wnat to get output sorted first by the value counts, then alphabetically by the name of the fruit.  This can be done by combining value_counts() with `sort_index(ascending=False)` and `sort_values(ascending=False)`."
   ]
  },
  {
   "cell_type": "code",
   "execution_count": null,
   "id": "8f6b9d62",
   "metadata": {},
   "outputs": [],
   "source": [
    "df_fruit['fruit'].value_counts().sort_index(ascending=False).sort_values(ascending=False)"
   ]
  },
  {
   "cell_type": "markdown",
   "id": "c33e42f7",
   "metadata": {},
   "source": [
    "### 5.) value_counts() percentage counts or relative frequencies of the unique values\n",
    "Sometimes, getting a percentage count is better than the normal count.  By setting `normalize=True`, the object returned will contain the relative frequencies of the unique values.  The `normalize` parameter is set to `False` by default.\n",
    "\n",
    "**Syntax** - `df['your_column'].value_counts(normalize=True)`"
   ]
  },
  {
   "cell_type": "code",
   "execution_count": null,
   "id": "d1cdbb49",
   "metadata": {},
   "outputs": [],
   "source": [
    "df['course_difficulty'].value_counts(normalize=True)"
   ]
  },
  {
   "cell_type": "markdown",
   "id": "74a39bf6",
   "metadata": {},
   "source": [
    "### 6.) value_counts() to bin continuous data into discrete intervals.\n",
    "This is one great hack that is commonly under-utilised.  The `value_counts()` can be used to bin continuous data into discrete intervals with the help of the `bin` parameter.  This option works only with numerical data.  It is similar to the `pd.cut` function.  Let's see how it works using the *course_rating* column.  Let's group the counts for the column into 4 bins.\n",
    "\n",
    "**Syntax** - `df['your_column'].value_counts(bin=number of bins)`"
   ]
  },
  {
   "cell_type": "code",
   "execution_count": null,
   "id": "d912e6ad",
   "metadata": {},
   "outputs": [],
   "source": [
    "df['course_rating'].value_counts()"
   ]
  },
  {
   "cell_type": "code",
   "execution_count": null,
   "id": "62075533",
   "metadata": {},
   "outputs": [],
   "source": [
    "df['course_rating'].value_counts(bins=4)"
   ]
  },
  {
   "cell_type": "markdown",
   "id": "2939a41a",
   "metadata": {},
   "source": [
    "Binning makes it easy to understand the idea being conveyed.  We can easily see that most of the people out of the total population rated coursed above 4.5.  With just a few outliers where the rating is below 4.15 (only 7 rated courses lower than 4.15)."
   ]
  },
  {
   "cell_type": "code",
   "execution_count": null,
   "id": "9beeeb0b",
   "metadata": {},
   "outputs": [],
   "source": [
    "df['course_rating'].value_counts(bins=4, ascending=True)"
   ]
  },
  {
   "cell_type": "markdown",
   "id": "670c8126",
   "metadata": {},
   "source": [
    "### 7.) value_counts() displaying the NaN values\n",
    "By default, the count of null values is excluded from the result.  But, the same can be displayed easily by setting the `dropna` parameter to `False`.  Since our dataset does not have nay null values setting dropna parameter would not make a difference.  But this can be of use on another dataset that has null values, so keep this in mind.\n",
    "\n",
    "**Syntax** - `df['your_column'].value_counts(dropna=False)`"
   ]
  },
  {
   "cell_type": "markdown",
   "id": "24cf00e9",
   "metadata": {},
   "source": [
    "### 8.) value_counts() as dataframe\n",
    "As mentioned at the beginning of the article, value_counts returns series, not a dataframe.  If you want to have your counts as a dataframe you can do it using function `.to_frame()` after the `.value_counts()`.\n",
    "\n",
    "We can convert the series to a dataframe as follows:\n",
    "\n",
    "**Syntax** - `df['your_column'].value_counts().to_frame()`"
   ]
  },
  {
   "cell_type": "code",
   "execution_count": null,
   "id": "62f511c7",
   "metadata": {},
   "outputs": [],
   "source": [
    "df['course_difficulty'].value_counts()"
   ]
  },
  {
   "cell_type": "code",
   "execution_count": null,
   "id": "2354ea27",
   "metadata": {},
   "outputs": [],
   "source": [
    "df['course_difficulty'].value_counts().to_frame()"
   ]
  },
  {
   "cell_type": "markdown",
   "id": "0f1e1b0d",
   "metadata": {},
   "source": [
    "If you need to name index column and rename a column, with counts in the dataframe you can convert to dataframe in a slightly different way."
   ]
  },
  {
   "cell_type": "code",
   "execution_count": null,
   "id": "491ebb83",
   "metadata": {},
   "outputs": [],
   "source": [
    "value_counts = df['course_difficulty'].value_counts()\n",
    "df_value_counts = pd.DataFrame(value_counts)\n",
    "df_value_counts = df_value_counts.reset_index()\n",
    "df_value_counts.columns = ['unique_values','counts for course_difficulty']\n",
    "df_value_counts"
   ]
  },
  {
   "cell_type": "markdown",
   "id": "08950d8d",
   "metadata": {},
   "source": [
    "### 9.) Group by and value_counts\n",
    "This is one of my favourite uses of the value_counts(0 function and an underutilized one too.  `Groupby` is a very powerful pandas method.  You can group by one column and count the values of another column per this column value using `value_counts`.\n",
    "\n",
    "**Syntax** - `df.groupby('your_column_1')['your_column_2'].value_counts()`  \n",
    "\n",
    "Using `groupby` and `value_counts` we can count the number of certificate types for each type of course difficulty."
   ]
  },
  {
   "cell_type": "code",
   "execution_count": null,
   "id": "49de3924",
   "metadata": {},
   "outputs": [],
   "source": [
    "df.groupby('course_difficulty')['course_Certificate_type'].value_counts()"
   ]
  },
  {
   "cell_type": "markdown",
   "id": "bb7b7b56",
   "metadata": {},
   "source": [
    "This is a multi-index, a valuable trick in pandas dataframe which allows us to have a few levels of index hierarchy in our dataframe.  In this case, the course difficulty is the level 0 of the index and the certificate type is on level 1."
   ]
  },
  {
   "cell_type": "markdown",
   "id": "80f80cff",
   "metadata": {},
   "source": [
    "### 10. Pandas value counts with a constraint\n",
    "When working with a dataset, you may need to return the number of occurences by your index column using `value_counts()` that are also limited by a constraint.  \n",
    "\n",
    "**Syntax** - `df['your_column'].value_counts().loc[lambda x: x>]`  \n",
    "\n",
    "The above quick one-liner will filter out counts for unique data and see only data where the value in the specified column is greater than 1.  \n",
    "\n",
    "Let's demonstrate this by limiting course rating to be greater than 4."
   ]
  },
  {
   "cell_type": "code",
   "execution_count": null,
   "id": "b1a8fefe",
   "metadata": {},
   "outputs": [],
   "source": [
    "df['course_rating'].value_counts()"
   ]
  },
  {
   "cell_type": "code",
   "execution_count": null,
   "id": "3076cd0b",
   "metadata": {},
   "outputs": [],
   "source": [
    "df['course_rating'].value_counts().loc[lambda x: x>4]"
   ]
  },
  {
   "cell_type": "code",
   "execution_count": null,
   "id": "ea89ce19",
   "metadata": {},
   "outputs": [],
   "source": []
  }
 ],
 "metadata": {
  "jupytext": {
   "formats": "ipynb,py:percent",
   "text_representation": {
    "extension": ".py",
    "format_name": "percent",
    "format_version": "1.3",
    "jupytext_version": "1.11.4"
   }
  },
  "kernelspec": {
   "display_name": "Python 3",
   "language": "python",
   "name": "python3"
  },
  "language_info": {
   "codemirror_mode": {
    "name": "ipython",
    "version": 3
   },
   "file_extension": ".py",
   "mimetype": "text/x-python",
   "name": "python",
   "nbconvert_exporter": "python",
   "pygments_lexer": "ipython3",
   "version": "3.8.10"
  }
 },
 "nbformat": 4,
 "nbformat_minor": 5
}
