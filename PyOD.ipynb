{
 "cells": [
  {
   "cell_type": "markdown",
   "id": "2d6df9b9",
   "metadata": {},
   "source": [
    "# PyOD: a Unified Python Library for Anomaly Detection\n",
    "### The scikit-learn for outlier detection machine learning tasks\n",
    "\n",
    "from [towards data science](https://towardsdatascience.com/pyod-a-unified-python-library-for-anomaly-detection-3608ec1fe321 \"Original Article\") by [Alexandra Amidon](https://alexandra-amidon.medium.com \"Alexandra Amidon on medium.com\")"
   ]
  },
  {
   "cell_type": "code",
   "execution_count": null,
   "id": "a6924987",
   "metadata": {},
   "outputs": [],
   "source": [
    "from pyod.utils.data import generate_data\n",
    "import numpy as np\n",
    "\n",
    "import matplotlib.pyplot as plt"
   ]
  },
  {
   "cell_type": "code",
   "execution_count": null,
   "id": "2bf2c6ae",
   "metadata": {},
   "outputs": [],
   "source": [
    "#     behaviour : str, default='old'\n",
    "#         Behaviour of the returned datasets which can be either 'old' or\n",
    "#         'new'. Passing ``behaviour='new'`` returns\n",
    "#         \"X_train, y_train, X_test, y_test\", while passing ``behaviour='old'``\n",
    "#         returns \"X_train, X_test, y_train, y_test\"."
   ]
  },
  {
   "cell_type": "code",
   "execution_count": null,
   "id": "92663cd2",
   "metadata": {},
   "outputs": [],
   "source": [
    "X_train, X_test, y_train, y_test = \\\n",
    "    generate_data(n_train=200,\n",
    "                 n_test=100,\n",
    "                 n_features=5,\n",
    "                 contamination=0.1,\n",
    "                 random_state=3,\n",
    "                 behaviour = 'new')\n",
    "X_train = X_train * np.random.uniform(0, 1, size=X_train.shape)\n",
    "X_test = X_test * np.random.uniform(0, 1, size=X_test.shape)"
   ]
  },
  {
   "cell_type": "code",
   "execution_count": null,
   "id": "57771a06",
   "metadata": {},
   "outputs": [],
   "source": [
    "from pyod.models.abod import ABOD\n",
    "clf_name = 'ABOD'\n",
    "clf = ABOD()\n",
    "clf.fit(X_train)\n",
    "test_scores = clf.decision_function(X_test)"
   ]
  },
  {
   "cell_type": "code",
   "execution_count": null,
   "id": "ff39f952",
   "metadata": {
    "lines_to_next_cell": 2
   },
   "outputs": [],
   "source": [
    "from pyod.utils.utility import precision_n_scores\n",
    "from sklearn.metrics import roc_auc_score\n",
    "roc = round(roc_auc_score(y_test, test_scores), ndigits=4)\n",
    "prn = round(precision_n_scores(y_test, test_scores), ndigits=4)\n",
    "print(f'{clf_name} ROC:{roc}, precision @ rank n:{prn}')"
   ]
  },
  {
   "cell_type": "code",
   "execution_count": null,
   "id": "6a6b4e10",
   "metadata": {},
   "outputs": [],
   "source": [
    "from sklearn.metrics import roc_curve\n",
    "fpr, tpr, _ = roc_curve(y_test, test_scores)\n",
    "plt.plot(fpr, tpr)"
   ]
  },
  {
   "cell_type": "code",
   "execution_count": null,
   "id": "44bc0aaa",
   "metadata": {},
   "outputs": [],
   "source": [
    "X = range(len(y_test))\n",
    "fig, ax = plt.subplots(figsize=(15,5))\n",
    "# ax.scatter(X,y_test, color='orange')\n",
    "# ax2 = ax.twinx()\n",
    "# ax2.scatter(X,test_scores)\n",
    "\n",
    "ax.scatter(test_scores, y_test)\n",
    "plt.show()"
   ]
  },
  {
   "cell_type": "code",
   "execution_count": null,
   "id": "82f7345a",
   "metadata": {},
   "outputs": [],
   "source": [
    "test_scores"
   ]
  },
  {
   "cell_type": "code",
   "execution_count": null,
   "id": "96b46a26",
   "metadata": {},
   "outputs": [],
   "source": [
    "from pyod.models.copod import COPOD\n",
    "clf_name = 'COPOD'\n",
    "clf = COPOD()\n",
    "clf.fit(X_train)\n",
    "test_scores = clf.decision_function(X_test)"
   ]
  },
  {
   "cell_type": "code",
   "execution_count": null,
   "id": "5ff92b3f",
   "metadata": {},
   "outputs": [],
   "source": [
    "from pyod.utils.utility import precision_n_scores\n",
    "from sklearn.metrics import roc_auc_score\n",
    "roc = round(roc_auc_score(y_test, test_scores), ndigits=4)\n",
    "prn = round(precision_n_scores(y_test, test_scores), ndigits=4)\n",
    "print(f'{clf_name} ROC:{roc}, precision @ rank n:{prn}')"
   ]
  },
  {
   "cell_type": "code",
   "execution_count": null,
   "id": "b3f92487",
   "metadata": {},
   "outputs": [],
   "source": []
  }
 ],
 "metadata": {
  "jupytext": {
   "formats": "ipynb,py:percent",
   "text_representation": {
    "extension": ".py",
    "format_name": "percent",
    "format_version": "1.3",
    "jupytext_version": "1.11.4"
   }
  },
  "kernelspec": {
   "display_name": "Python 3",
   "language": "python",
   "name": "python3"
  },
  "language_info": {
   "codemirror_mode": {
    "name": "ipython",
    "version": 3
   },
   "file_extension": ".py",
   "mimetype": "text/x-python",
   "name": "python",
   "nbconvert_exporter": "python",
   "pygments_lexer": "ipython3",
   "version": "3.8.10"
  }
 },
 "nbformat": 4,
 "nbformat_minor": 5
}
