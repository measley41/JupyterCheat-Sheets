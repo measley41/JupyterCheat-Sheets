{
 "cells": [
  {
   "cell_type": "markdown",
   "id": "075b726a",
   "metadata": {},
   "source": [
    "### Google style docstrings"
   ]
  },
  {
   "cell_type": "code",
   "execution_count": 1,
   "id": "109130df",
   "metadata": {},
   "outputs": [],
   "source": [
    "def function(arg_1, arg_2=42):\n",
    "    \"\"\"Description of what the function does.\n",
    "    \n",
    "    Args:\n",
    "      arg_1 (str): Description of arg_1 that can break onto the next line\n",
    "        if needed.\n",
    "      arg_2 (int, optional): Write optional when an argument has a default\n",
    "        value.\n",
    "        \n",
    "    Returns:\n",
    "      bool: Optional description of the return value\n",
    "      Extra lines are not indented\n",
    "      \n",
    "    Raises:\n",
    "      VAlueError: Include any error types that the function intentionally\n",
    "        raises.\n",
    "        \n",
    "    Notes:\n",
    "      See https://www.datacamp.com/community/tutorials/docstrings-python\n",
    "      for more info.\n",
    "    \"\"\""
   ]
  },
  {
   "cell_type": "markdown",
   "id": "495dcba1",
   "metadata": {},
   "source": [
    "### Numpydoc style docstrings"
   ]
  },
  {
   "cell_type": "code",
   "execution_count": 2,
   "id": "90980d9f",
   "metadata": {},
   "outputs": [],
   "source": [
    "def function(arg_1, arg2=42):\n",
    "    \"\"\"\n",
    "    Description of what the function does.\n",
    "    \n",
    "    Parameters\n",
    "    ----------\n",
    "    arg_1 : expected type of arg_1\n",
    "      Description of arg_1.\n",
    "    arg_2 : int, optional\n",
    "      Write optional when an argument has a default value.\n",
    "      Default=42.\n",
    "      \n",
    "    Returns\n",
    "    -------\n",
    "    The type of the return value\n",
    "      Can include a description of the return value.\n",
    "      Replace \"Return\" with \"Yields\" if this function is a genrator.\n",
    "    \"\"\""
   ]
  },
  {
   "cell_type": "markdown",
   "id": "f074d870",
   "metadata": {},
   "source": [
    "### Retrieving docstrings"
   ]
  },
  {
   "cell_type": "code",
   "execution_count": 3,
   "id": "a613d07e",
   "metadata": {},
   "outputs": [],
   "source": [
    "def the_answer():\n",
    "    \"\"\"Return the answer to life,\n",
    "    the universe, and everything.\n",
    "    \n",
    "    Returns:\n",
    "      int\n",
    "    \"\"\"\n",
    "    return 42"
   ]
  },
  {
   "cell_type": "code",
   "execution_count": 4,
   "id": "a168f980",
   "metadata": {},
   "outputs": [
    {
     "name": "stdout",
     "output_type": "stream",
     "text": [
      "Return the answer to life,\n",
      "    the universe, and everything.\n",
      "    \n",
      "    Returns:\n",
      "      int\n",
      "    \n"
     ]
    }
   ],
   "source": [
    "print(the_answer.__doc__)"
   ]
  },
  {
   "cell_type": "markdown",
   "id": "2a11b710",
   "metadata": {},
   "source": [
    "To see a cleaner version without leading whitespaces:"
   ]
  },
  {
   "cell_type": "code",
   "execution_count": 5,
   "id": "b1b4188d",
   "metadata": {},
   "outputs": [
    {
     "name": "stdout",
     "output_type": "stream",
     "text": [
      "Return the answer to life,\n",
      "the universe, and everything.\n",
      "\n",
      "Returns:\n",
      "  int\n"
     ]
    }
   ],
   "source": [
    "import inspect\n",
    "print(inspect.getdoc(the_answer))"
   ]
  },
  {
   "cell_type": "markdown",
   "id": "9a06e9b4",
   "metadata": {},
   "source": [
    "### Dry and Do One Thing\n",
    "\n",
    "DRY - Don't repeat yourself\n",
    "\n",
    "Before:"
   ]
  },
  {
   "cell_type": "code",
   "execution_count": 10,
   "id": "848566bc",
   "metadata": {},
   "outputs": [
    {
     "ename": "SyntaxError",
     "evalue": "invalid syntax (<ipython-input-10-35b0c2559734>, line 5)",
     "output_type": "error",
     "traceback": [
      "\u001b[0;36m  File \u001b[0;32m\"<ipython-input-10-35b0c2559734>\"\u001b[0;36m, line \u001b[0;32m5\u001b[0m\n\u001b[0;31m    train_X = train[col for col in train.columns if col != 'labels'].values\u001b[0m\n\u001b[0m                        ^\u001b[0m\n\u001b[0;31mSyntaxError\u001b[0m\u001b[0;31m:\u001b[0m invalid syntax\n"
     ]
    }
   ],
   "source": [
    "import pandas as pd\n",
    "\n",
    "train = pd.read_csv('train.csv')\n",
    "train_y = train['labels'].values\n",
    "train_X = train[col for col in train.columns if col != 'labels'].values\n",
    "train_pca = PCA(n_components=2).fit_transform(train_X)\n",
    "plt.scatter(train_pca[:,0], train_pca[:,1])\n",
    "\n",
    "val = pd.read_csv('val.csv')\n",
    "val_y = val['labels'].values\n",
    "val_X = val[col for col in val.columns if col != 'labels'].values\n",
    "val_pca = PCA(n_components=2).fit_transform(val_X)\n",
    "plt.scatter(val_pca[:,0], val_pca[:,1])\n",
    "\n",
    "test = pd.read_csv('test.csv')\n",
    "test_y = test['labels'].values\n",
    "test_X = test[col for col in test.columns if col != 'labels'].values\n",
    "test_pca = PCA(n_components=2).fit_transform(test_X)\n",
    "plt.scatter(test_pca[:,0], test_pca[:,1])"
   ]
  },
  {
   "cell_type": "code",
   "execution_count": 11,
   "id": "268ed4c3",
   "metadata": {},
   "outputs": [
    {
     "ename": "FileNotFoundError",
     "evalue": "[Errno 2] No such file or directory: 'train.csv'",
     "output_type": "error",
     "traceback": [
      "\u001b[0;31m---------------------------------------------------------------------------\u001b[0m",
      "\u001b[0;31mFileNotFoundError\u001b[0m                         Traceback (most recent call last)",
      "\u001b[0;32m<ipython-input-11-f8ea56563483>\u001b[0m in \u001b[0;36m<module>\u001b[0;34m\u001b[0m\n\u001b[1;32m      1\u001b[0m \u001b[0;32mimport\u001b[0m \u001b[0mpandas\u001b[0m \u001b[0;32mas\u001b[0m \u001b[0mpd\u001b[0m\u001b[0;34m\u001b[0m\u001b[0;34m\u001b[0m\u001b[0m\n\u001b[0;32m----> 2\u001b[0;31m \u001b[0mtrain\u001b[0m \u001b[0;34m=\u001b[0m \u001b[0mpd\u001b[0m\u001b[0;34m.\u001b[0m\u001b[0mread_csv\u001b[0m\u001b[0;34m(\u001b[0m\u001b[0;34m'train.csv'\u001b[0m\u001b[0;34m)\u001b[0m\u001b[0;34m\u001b[0m\u001b[0;34m\u001b[0m\u001b[0m\n\u001b[0m",
      "\u001b[0;32m~/anaconda3/envs/jupyter/lib/python3.8/site-packages/pandas/util/_decorators.py\u001b[0m in \u001b[0;36mwrapper\u001b[0;34m(*args, **kwargs)\u001b[0m\n\u001b[1;32m    309\u001b[0m                     \u001b[0mstacklevel\u001b[0m\u001b[0;34m=\u001b[0m\u001b[0mstacklevel\u001b[0m\u001b[0;34m,\u001b[0m\u001b[0;34m\u001b[0m\u001b[0;34m\u001b[0m\u001b[0m\n\u001b[1;32m    310\u001b[0m                 )\n\u001b[0;32m--> 311\u001b[0;31m             \u001b[0;32mreturn\u001b[0m \u001b[0mfunc\u001b[0m\u001b[0;34m(\u001b[0m\u001b[0;34m*\u001b[0m\u001b[0margs\u001b[0m\u001b[0;34m,\u001b[0m \u001b[0;34m**\u001b[0m\u001b[0mkwargs\u001b[0m\u001b[0;34m)\u001b[0m\u001b[0;34m\u001b[0m\u001b[0;34m\u001b[0m\u001b[0m\n\u001b[0m\u001b[1;32m    312\u001b[0m \u001b[0;34m\u001b[0m\u001b[0m\n\u001b[1;32m    313\u001b[0m         \u001b[0;32mreturn\u001b[0m \u001b[0mwrapper\u001b[0m\u001b[0;34m\u001b[0m\u001b[0;34m\u001b[0m\u001b[0m\n",
      "\u001b[0;32m~/anaconda3/envs/jupyter/lib/python3.8/site-packages/pandas/io/parsers/readers.py\u001b[0m in \u001b[0;36mread_csv\u001b[0;34m(filepath_or_buffer, sep, delimiter, header, names, index_col, usecols, squeeze, prefix, mangle_dupe_cols, dtype, engine, converters, true_values, false_values, skipinitialspace, skiprows, skipfooter, nrows, na_values, keep_default_na, na_filter, verbose, skip_blank_lines, parse_dates, infer_datetime_format, keep_date_col, date_parser, dayfirst, cache_dates, iterator, chunksize, compression, thousands, decimal, lineterminator, quotechar, quoting, doublequote, escapechar, comment, encoding, encoding_errors, dialect, error_bad_lines, warn_bad_lines, on_bad_lines, delim_whitespace, low_memory, memory_map, float_precision, storage_options)\u001b[0m\n\u001b[1;32m    584\u001b[0m     \u001b[0mkwds\u001b[0m\u001b[0;34m.\u001b[0m\u001b[0mupdate\u001b[0m\u001b[0;34m(\u001b[0m\u001b[0mkwds_defaults\u001b[0m\u001b[0;34m)\u001b[0m\u001b[0;34m\u001b[0m\u001b[0;34m\u001b[0m\u001b[0m\n\u001b[1;32m    585\u001b[0m \u001b[0;34m\u001b[0m\u001b[0m\n\u001b[0;32m--> 586\u001b[0;31m     \u001b[0;32mreturn\u001b[0m \u001b[0m_read\u001b[0m\u001b[0;34m(\u001b[0m\u001b[0mfilepath_or_buffer\u001b[0m\u001b[0;34m,\u001b[0m \u001b[0mkwds\u001b[0m\u001b[0;34m)\u001b[0m\u001b[0;34m\u001b[0m\u001b[0;34m\u001b[0m\u001b[0m\n\u001b[0m\u001b[1;32m    587\u001b[0m \u001b[0;34m\u001b[0m\u001b[0m\n\u001b[1;32m    588\u001b[0m \u001b[0;34m\u001b[0m\u001b[0m\n",
      "\u001b[0;32m~/anaconda3/envs/jupyter/lib/python3.8/site-packages/pandas/io/parsers/readers.py\u001b[0m in \u001b[0;36m_read\u001b[0;34m(filepath_or_buffer, kwds)\u001b[0m\n\u001b[1;32m    480\u001b[0m \u001b[0;34m\u001b[0m\u001b[0m\n\u001b[1;32m    481\u001b[0m     \u001b[0;31m# Create the parser.\u001b[0m\u001b[0;34m\u001b[0m\u001b[0;34m\u001b[0m\u001b[0;34m\u001b[0m\u001b[0m\n\u001b[0;32m--> 482\u001b[0;31m     \u001b[0mparser\u001b[0m \u001b[0;34m=\u001b[0m \u001b[0mTextFileReader\u001b[0m\u001b[0;34m(\u001b[0m\u001b[0mfilepath_or_buffer\u001b[0m\u001b[0;34m,\u001b[0m \u001b[0;34m**\u001b[0m\u001b[0mkwds\u001b[0m\u001b[0;34m)\u001b[0m\u001b[0;34m\u001b[0m\u001b[0;34m\u001b[0m\u001b[0m\n\u001b[0m\u001b[1;32m    483\u001b[0m \u001b[0;34m\u001b[0m\u001b[0m\n\u001b[1;32m    484\u001b[0m     \u001b[0;32mif\u001b[0m \u001b[0mchunksize\u001b[0m \u001b[0;32mor\u001b[0m \u001b[0miterator\u001b[0m\u001b[0;34m:\u001b[0m\u001b[0;34m\u001b[0m\u001b[0;34m\u001b[0m\u001b[0m\n",
      "\u001b[0;32m~/anaconda3/envs/jupyter/lib/python3.8/site-packages/pandas/io/parsers/readers.py\u001b[0m in \u001b[0;36m__init__\u001b[0;34m(self, f, engine, **kwds)\u001b[0m\n\u001b[1;32m    809\u001b[0m             \u001b[0mself\u001b[0m\u001b[0;34m.\u001b[0m\u001b[0moptions\u001b[0m\u001b[0;34m[\u001b[0m\u001b[0;34m\"has_index_names\"\u001b[0m\u001b[0;34m]\u001b[0m \u001b[0;34m=\u001b[0m \u001b[0mkwds\u001b[0m\u001b[0;34m[\u001b[0m\u001b[0;34m\"has_index_names\"\u001b[0m\u001b[0;34m]\u001b[0m\u001b[0;34m\u001b[0m\u001b[0;34m\u001b[0m\u001b[0m\n\u001b[1;32m    810\u001b[0m \u001b[0;34m\u001b[0m\u001b[0m\n\u001b[0;32m--> 811\u001b[0;31m         \u001b[0mself\u001b[0m\u001b[0;34m.\u001b[0m\u001b[0m_engine\u001b[0m \u001b[0;34m=\u001b[0m \u001b[0mself\u001b[0m\u001b[0;34m.\u001b[0m\u001b[0m_make_engine\u001b[0m\u001b[0;34m(\u001b[0m\u001b[0mself\u001b[0m\u001b[0;34m.\u001b[0m\u001b[0mengine\u001b[0m\u001b[0;34m)\u001b[0m\u001b[0;34m\u001b[0m\u001b[0;34m\u001b[0m\u001b[0m\n\u001b[0m\u001b[1;32m    812\u001b[0m \u001b[0;34m\u001b[0m\u001b[0m\n\u001b[1;32m    813\u001b[0m     \u001b[0;32mdef\u001b[0m \u001b[0mclose\u001b[0m\u001b[0;34m(\u001b[0m\u001b[0mself\u001b[0m\u001b[0;34m)\u001b[0m\u001b[0;34m:\u001b[0m\u001b[0;34m\u001b[0m\u001b[0;34m\u001b[0m\u001b[0m\n",
      "\u001b[0;32m~/anaconda3/envs/jupyter/lib/python3.8/site-packages/pandas/io/parsers/readers.py\u001b[0m in \u001b[0;36m_make_engine\u001b[0;34m(self, engine)\u001b[0m\n\u001b[1;32m   1038\u001b[0m             )\n\u001b[1;32m   1039\u001b[0m         \u001b[0;31m# error: Too many arguments for \"ParserBase\"\u001b[0m\u001b[0;34m\u001b[0m\u001b[0;34m\u001b[0m\u001b[0;34m\u001b[0m\u001b[0m\n\u001b[0;32m-> 1040\u001b[0;31m         \u001b[0;32mreturn\u001b[0m \u001b[0mmapping\u001b[0m\u001b[0;34m[\u001b[0m\u001b[0mengine\u001b[0m\u001b[0;34m]\u001b[0m\u001b[0;34m(\u001b[0m\u001b[0mself\u001b[0m\u001b[0;34m.\u001b[0m\u001b[0mf\u001b[0m\u001b[0;34m,\u001b[0m \u001b[0;34m**\u001b[0m\u001b[0mself\u001b[0m\u001b[0;34m.\u001b[0m\u001b[0moptions\u001b[0m\u001b[0;34m)\u001b[0m  \u001b[0;31m# type: ignore[call-arg]\u001b[0m\u001b[0;34m\u001b[0m\u001b[0;34m\u001b[0m\u001b[0m\n\u001b[0m\u001b[1;32m   1041\u001b[0m \u001b[0;34m\u001b[0m\u001b[0m\n\u001b[1;32m   1042\u001b[0m     \u001b[0;32mdef\u001b[0m \u001b[0m_failover_to_python\u001b[0m\u001b[0;34m(\u001b[0m\u001b[0mself\u001b[0m\u001b[0;34m)\u001b[0m\u001b[0;34m:\u001b[0m\u001b[0;34m\u001b[0m\u001b[0;34m\u001b[0m\u001b[0m\n",
      "\u001b[0;32m~/anaconda3/envs/jupyter/lib/python3.8/site-packages/pandas/io/parsers/c_parser_wrapper.py\u001b[0m in \u001b[0;36m__init__\u001b[0;34m(self, src, **kwds)\u001b[0m\n\u001b[1;32m     49\u001b[0m \u001b[0;34m\u001b[0m\u001b[0m\n\u001b[1;32m     50\u001b[0m         \u001b[0;31m# open handles\u001b[0m\u001b[0;34m\u001b[0m\u001b[0;34m\u001b[0m\u001b[0;34m\u001b[0m\u001b[0m\n\u001b[0;32m---> 51\u001b[0;31m         \u001b[0mself\u001b[0m\u001b[0;34m.\u001b[0m\u001b[0m_open_handles\u001b[0m\u001b[0;34m(\u001b[0m\u001b[0msrc\u001b[0m\u001b[0;34m,\u001b[0m \u001b[0mkwds\u001b[0m\u001b[0;34m)\u001b[0m\u001b[0;34m\u001b[0m\u001b[0;34m\u001b[0m\u001b[0m\n\u001b[0m\u001b[1;32m     52\u001b[0m         \u001b[0;32massert\u001b[0m \u001b[0mself\u001b[0m\u001b[0;34m.\u001b[0m\u001b[0mhandles\u001b[0m \u001b[0;32mis\u001b[0m \u001b[0;32mnot\u001b[0m \u001b[0;32mNone\u001b[0m\u001b[0;34m\u001b[0m\u001b[0;34m\u001b[0m\u001b[0m\n\u001b[1;32m     53\u001b[0m \u001b[0;34m\u001b[0m\u001b[0m\n",
      "\u001b[0;32m~/anaconda3/envs/jupyter/lib/python3.8/site-packages/pandas/io/parsers/base_parser.py\u001b[0m in \u001b[0;36m_open_handles\u001b[0;34m(self, src, kwds)\u001b[0m\n\u001b[1;32m    220\u001b[0m         \u001b[0mLet\u001b[0m \u001b[0mthe\u001b[0m \u001b[0mreaders\u001b[0m \u001b[0mopen\u001b[0m \u001b[0mIOHandles\u001b[0m \u001b[0mafter\u001b[0m \u001b[0mthey\u001b[0m \u001b[0mare\u001b[0m \u001b[0mdone\u001b[0m \u001b[0;32mwith\u001b[0m \u001b[0mtheir\u001b[0m \u001b[0mpotential\u001b[0m \u001b[0mraises\u001b[0m\u001b[0;34m.\u001b[0m\u001b[0;34m\u001b[0m\u001b[0;34m\u001b[0m\u001b[0m\n\u001b[1;32m    221\u001b[0m         \"\"\"\n\u001b[0;32m--> 222\u001b[0;31m         self.handles = get_handle(\n\u001b[0m\u001b[1;32m    223\u001b[0m             \u001b[0msrc\u001b[0m\u001b[0;34m,\u001b[0m\u001b[0;34m\u001b[0m\u001b[0;34m\u001b[0m\u001b[0m\n\u001b[1;32m    224\u001b[0m             \u001b[0;34m\"r\"\u001b[0m\u001b[0;34m,\u001b[0m\u001b[0;34m\u001b[0m\u001b[0;34m\u001b[0m\u001b[0m\n",
      "\u001b[0;32m~/anaconda3/envs/jupyter/lib/python3.8/site-packages/pandas/io/common.py\u001b[0m in \u001b[0;36mget_handle\u001b[0;34m(path_or_buf, mode, encoding, compression, memory_map, is_text, errors, storage_options)\u001b[0m\n\u001b[1;32m    700\u001b[0m         \u001b[0;32mif\u001b[0m \u001b[0mioargs\u001b[0m\u001b[0;34m.\u001b[0m\u001b[0mencoding\u001b[0m \u001b[0;32mand\u001b[0m \u001b[0;34m\"b\"\u001b[0m \u001b[0;32mnot\u001b[0m \u001b[0;32min\u001b[0m \u001b[0mioargs\u001b[0m\u001b[0;34m.\u001b[0m\u001b[0mmode\u001b[0m\u001b[0;34m:\u001b[0m\u001b[0;34m\u001b[0m\u001b[0;34m\u001b[0m\u001b[0m\n\u001b[1;32m    701\u001b[0m             \u001b[0;31m# Encoding\u001b[0m\u001b[0;34m\u001b[0m\u001b[0;34m\u001b[0m\u001b[0;34m\u001b[0m\u001b[0m\n\u001b[0;32m--> 702\u001b[0;31m             handle = open(\n\u001b[0m\u001b[1;32m    703\u001b[0m                 \u001b[0mhandle\u001b[0m\u001b[0;34m,\u001b[0m\u001b[0;34m\u001b[0m\u001b[0;34m\u001b[0m\u001b[0m\n\u001b[1;32m    704\u001b[0m                 \u001b[0mioargs\u001b[0m\u001b[0;34m.\u001b[0m\u001b[0mmode\u001b[0m\u001b[0;34m,\u001b[0m\u001b[0;34m\u001b[0m\u001b[0;34m\u001b[0m\u001b[0m\n",
      "\u001b[0;31mFileNotFoundError\u001b[0m: [Errno 2] No such file or directory: 'train.csv'"
     ]
    }
   ],
   "source": [
    "import pandas as pd\n",
    "train = pd.read_csv('train.csv')"
   ]
  },
  {
   "cell_type": "markdown",
   "id": "ab09e946",
   "metadata": {},
   "source": [
    "First pass - create a function:"
   ]
  },
  {
   "cell_type": "code",
   "execution_count": null,
   "id": "474f62e0",
   "metadata": {},
   "outputs": [],
   "source": [
    "def load_and_plot(path):\n",
    "    \"\"\"Load a data set and plot the first two principal components.\n",
    "    \n",
    "    Args:\n",
    "      path (str): The location of a CSV file.\n",
    "      \n",
    "    Returns:\n",
    "      tuple of ndarray: (features, labels)\n",
    "    \"\"\"\n",
    "    data = pd.read_csv(path)\n",
    "    y = data['label'].values\n",
    "    X = data[col for col in train.columns if col != 'label'].values\n",
    "    pca = PCA(n_components=2).fit_transform(X)\n",
    "    plt.scatter(pca[:,0], pca[:,1])\n",
    "    return X, y\n",
    "\n",
    "train_X, train_y = load_and_plot('train.csv')\n",
    "val_X, val_y = loa_and_plot('validation.csv')\n",
    "test_X, text_y = load_and_plot('test.csv')"
   ]
  },
  {
   "cell_type": "markdown",
   "id": "c31bf28d",
   "metadata": {},
   "source": [
    "Better, but the function does more than one thing.\n",
    "\n",
    "Do One Thing:"
   ]
  },
  {
   "cell_type": "code",
   "execution_count": null,
   "id": "9a30bd3d",
   "metadata": {},
   "outputs": [],
   "source": [
    "def load_data(path):\n",
    "    \"\"\"Load a data set.\n",
    "    \n",
    "    Args:\n",
    "      path (str): The location of a CSV file.\n",
    "      \n",
    "    Returns:\n",
    "      tuple of ndarray: (features, labels)\n",
    "    \"\"\"\n",
    "    data = pd.read_csv(path)\n",
    "    y = data['labels'].values\n",
    "    X = data[col for col in data.columns]\n",
    "      if col != 'labels'].values\n",
    "    return X, y\n",
    "\n",
    "def plot_data(X):\n",
    "    \"\"\"Plot the first two principal components of a matrix.\n",
    "    \n",
    "    Args:\n",
    "      X (numpy.ndarray): The data to plot.\n",
    "      \"\"\"\n",
    "    pca = PCA(n_components=2).fit_transform(X)\n",
    "    plt.scatter(pca[:,0], pca[:,1])\n",
    "    \n"
   ]
  },
  {
   "cell_type": "markdown",
   "id": "2a89e79a",
   "metadata": {},
   "source": [
    "Lists are mutable:"
   ]
  },
  {
   "cell_type": "code",
   "execution_count": null,
   "id": "8c281a40",
   "metadata": {},
   "outputs": [],
   "source": [
    "def foo(x):\n",
    "    x[0] = 99\n",
    "    \n",
    "my_list = [1,2,3]\n",
    "foo(my_list)\n",
    "print(my_list)"
   ]
  },
  {
   "cell_type": "markdown",
   "id": "1b0d9c79",
   "metadata": {},
   "source": [
    "Integers are immutable:"
   ]
  },
  {
   "cell_type": "code",
   "execution_count": null,
   "id": "f89c3a9b",
   "metadata": {},
   "outputs": [],
   "source": [
    "def bar(x):\n",
    "    x = x + 90\n",
    "    \n",
    "my_var = 3\n",
    "bar(my_var)\n",
    "print(my_var)"
   ]
  },
  {
   "cell_type": "markdown",
   "id": "d3e08f5f",
   "metadata": {},
   "source": [
    "### Context Managers\n",
    "\n",
    "Five parts to defining a context manager:\n",
    "1. Define a function\n",
    "2. (optional) Add any set up code your context needs.\n",
    "3. Use the \"yield\" keyword.\n",
    "4. (optional) Add any teardown code your context needs.\n",
    "5. Add the `@contextlib.contextmanager` decorator."
   ]
  },
  {
   "cell_type": "code",
   "execution_count": null,
   "id": "497b0034",
   "metadata": {},
   "outputs": [],
   "source": [
    "import contextlib\n",
    "\n",
    "@contextlib.contextmanager\n",
    "def my_context():\n",
    "    print('hello')\n",
    "    yield 42\n",
    "    print('goodbye')"
   ]
  },
  {
   "cell_type": "code",
   "execution_count": null,
   "id": "54bb901c",
   "metadata": {},
   "outputs": [],
   "source": [
    "with my_context() as val:\n",
    "    print(f\"The value is: {val}\")"
   ]
  },
  {
   "cell_type": "markdown",
   "id": "c391aae3",
   "metadata": {},
   "source": [
    "Another example:"
   ]
  },
  {
   "cell_type": "code",
   "execution_count": null,
   "id": "076acb85",
   "metadata": {},
   "outputs": [],
   "source": [
    "import time\n",
    "import contextlib\n",
    "\n",
    "@contextlib.contextmanager\n",
    "def timer():\n",
    "    \"\"\"Time the execution of a context block\n",
    "    \n",
    "    Yields: None\n",
    "    \"\"\"\n",
    "    start = time.time()\n",
    "    #Send control back to the context block\n",
    "    yield\n",
    "    \n",
    "    end = time.time()\n",
    "    print(f\"Elapsed: {end-start:.2f}s\")"
   ]
  },
  {
   "cell_type": "code",
   "execution_count": null,
   "id": "270be94a",
   "metadata": {},
   "outputs": [],
   "source": [
    "with timer():\n",
    "    print('This should take approximately 0.25 seconds')\n",
    "    time.sleep(0.25)"
   ]
  },
  {
   "cell_type": "markdown",
   "id": "e42c3f37",
   "metadata": {},
   "source": [
    "### Handling errors that occur when using context managers\n",
    "\n",
    "If a user creates an error before you return to the context manager, it doesn't get a change to clean up.  \n",
    "In order to handle this, use `try` and `finally` so that the cleanup can be done:"
   ]
  },
  {
   "cell_type": "code",
   "execution_count": null,
   "id": "e93806da",
   "metadata": {},
   "outputs": [],
   "source": [
    "def get_printer(ip):\n",
    "    p = connect_to_printer(ip)\n",
    "    \n",
    "    try:\n",
    "        yield\n",
    "    finally:\n",
    "        p.disconnect()\n",
    "        print('disconnected from printer')"
   ]
  },
  {
   "cell_type": "markdown",
   "id": "db87ec09",
   "metadata": {},
   "source": [
    "### Functions as objects / variables"
   ]
  },
  {
   "cell_type": "code",
   "execution_count": null,
   "id": "915f1f8c",
   "metadata": {},
   "outputs": [],
   "source": [
    "def my_function():\n",
    "    print('Hello')\n",
    "\n",
    "x = my_function\n",
    "type(x)"
   ]
  },
  {
   "cell_type": "code",
   "execution_count": null,
   "id": "2feb0813",
   "metadata": {},
   "outputs": [],
   "source": [
    "x()"
   ]
  },
  {
   "cell_type": "code",
   "execution_count": null,
   "id": "0da0f135",
   "metadata": {},
   "outputs": [],
   "source": [
    "PrintyMcPrintface = print\n",
    "PrintyMcPrintface('Python is awesome')"
   ]
  },
  {
   "cell_type": "code",
   "execution_count": null,
   "id": "878a44d2",
   "metadata": {},
   "outputs": [],
   "source": [
    "list_of_functions = [my_function, open, print]\n",
    "list_of_functions[2]('I am printing with an element of a list')"
   ]
  },
  {
   "cell_type": "code",
   "execution_count": null,
   "id": "8552f683",
   "metadata": {},
   "outputs": [],
   "source": [
    "dict_of_functions = {\n",
    "    'func1': my_function,\n",
    "    'func2': open,\n",
    "    'func3': print\n",
    "}\n",
    "\n",
    "dict_of_functions['func3']('I am printing with a value of a dict')"
   ]
  },
  {
   "cell_type": "code",
   "execution_count": null,
   "id": "8aec8e5d",
   "metadata": {},
   "outputs": [],
   "source": [
    "def has_docstring(func):\n",
    "    \"\"\"Check to see if the function\n",
    "    'func' has a docstring\n",
    "    \n",
    "    Args:\n",
    "        func (callable): A function.\n",
    "        \n",
    "    Returns:\n",
    "        bool\n",
    "    \"\"\"\n",
    "    return func.__doc__ is not None"
   ]
  },
  {
   "cell_type": "code",
   "execution_count": null,
   "id": "147700d8",
   "metadata": {},
   "outputs": [],
   "source": [
    "has_docstring(print)"
   ]
  },
  {
   "cell_type": "code",
   "execution_count": null,
   "id": "e55931fa",
   "metadata": {},
   "outputs": [],
   "source": [
    "has_docstring(my_function)"
   ]
  },
  {
   "cell_type": "markdown",
   "id": "7b9d8b90",
   "metadata": {},
   "source": [
    "### Nested Functions"
   ]
  },
  {
   "cell_type": "code",
   "execution_count": null,
   "id": "610e5731",
   "metadata": {},
   "outputs": [],
   "source": [
    "def foo(x,y):\n",
    "    if x>4 and x<10 and y>4 and y<10:\n",
    "        print(x*y)"
   ]
  },
  {
   "cell_type": "code",
   "execution_count": null,
   "id": "2ac6b3e5",
   "metadata": {},
   "outputs": [],
   "source": [
    "foo(5,5)"
   ]
  },
  {
   "cell_type": "code",
   "execution_count": null,
   "id": "71d9d3d5",
   "metadata": {},
   "outputs": [],
   "source": [
    "def foo(x,y):\n",
    "    def in_range(v):\n",
    "        return v>4 and v<10\n",
    "    \n",
    "    if in_range(x) and in_range(y):\n",
    "        print(x*y)"
   ]
  },
  {
   "cell_type": "code",
   "execution_count": null,
   "id": "a0afdc0a",
   "metadata": {},
   "outputs": [],
   "source": [
    "foo(5,5)"
   ]
  },
  {
   "cell_type": "markdown",
   "id": "6bdbd756",
   "metadata": {},
   "source": [
    "### Function can return a function"
   ]
  },
  {
   "cell_type": "code",
   "execution_count": null,
   "id": "d1633912",
   "metadata": {},
   "outputs": [],
   "source": [
    "def get_function():\n",
    "    def print_me(s):\n",
    "        print(s)\n",
    "        \n",
    "    return print_me"
   ]
  },
  {
   "cell_type": "code",
   "execution_count": null,
   "id": "98b2c265",
   "metadata": {},
   "outputs": [],
   "source": [
    "new_func = get_function()\n",
    "new_func('hello')"
   ]
  },
  {
   "cell_type": "markdown",
   "id": "06e0fb02",
   "metadata": {},
   "source": [
    "### Variable Scopes"
   ]
  },
  {
   "cell_type": "code",
   "execution_count": 12,
   "id": "d9758ec4",
   "metadata": {},
   "outputs": [
    {
     "name": "stdout",
     "output_type": "stream",
     "text": [
      "x outside foo is:7\n",
      "x in foo is: 42\n",
      "y in foo is: 200\n"
     ]
    }
   ],
   "source": [
    "x = 7\n",
    "y = 200\n",
    "print(f\"x outside foo is:{x}\")\n",
    "\n",
    "def foo():\n",
    "    x = 42\n",
    "    print(f\"x in foo is: {x}\")\n",
    "    print(f\"y in foo is: {y}\")\n",
    "    \n",
    "foo()"
   ]
  },
  {
   "cell_type": "markdown",
   "id": "6912b410",
   "metadata": {},
   "source": [
    "- First, the interpreter looks in the local scope.\n",
    "    - When you're inside a function, the local scope includes the arguments and variable defined inside the function.\n",
    "- In the case of nested functions, the outer function is considered the 'non-local' scope\n",
    "- Next, it expands its search to the global scope\n",
    "    - Things defined outside the local scope\n",
    "- Finally, it checks the built-in scope\n",
    "\n",
    "**Note:** Python only gives you read access to variables defined outside of your current scope.  In order to access the variable from another scope, it must be declared using the **global** keyword:"
   ]
  },
  {
   "cell_type": "code",
   "execution_count": 13,
   "id": "6201ef07",
   "metadata": {},
   "outputs": [
    {
     "name": "stdout",
     "output_type": "stream",
     "text": [
      "x in foo: 42\n",
      "x outside foo: 42\n"
     ]
    }
   ],
   "source": [
    "x = 7\n",
    "\n",
    "def foo():\n",
    "    global x\n",
    "    x = 42\n",
    "    print(f\"x in foo: {x}\")\n",
    "    \n",
    "foo()\n",
    "print(f\"x outside foo: {x}\")"
   ]
  },
  {
   "cell_type": "markdown",
   "id": "86621b2e",
   "metadata": {},
   "source": [
    "You should avoid using the global variables whenever possible.  \n",
    "If you want to use the non-local variable in the local scope, you must use the **nonlocal** keyword:"
   ]
  },
  {
   "cell_type": "code",
   "execution_count": 14,
   "id": "c9e87915",
   "metadata": {},
   "outputs": [
    {
     "name": "stdout",
     "output_type": "stream",
     "text": [
      "global x: 5\n",
      "x in foo before bar: 10\n",
      "x in bar: 200\n",
      "x in foo after bar: 200\n",
      "global x: 5\n"
     ]
    }
   ],
   "source": [
    "x = 5\n",
    "print(f\"global x: {x}\")\n",
    "def foo():\n",
    "    x = 10\n",
    "    print(f\"x in foo before bar: {x}\")\n",
    "    \n",
    "    def bar():\n",
    "        nonlocal x\n",
    "        x = 200\n",
    "        print(f\"x in bar: {x}\")\n",
    "        \n",
    "    bar()\n",
    "    print(f\"x in foo after bar: {x}\")\n",
    "    \n",
    "foo()\n",
    "\n",
    "print(f\"global x: {x}\")"
   ]
  },
  {
   "cell_type": "code",
   "execution_count": 15,
   "id": "ac47ba0f",
   "metadata": {},
   "outputs": [
    {
     "name": "stdout",
     "output_type": "stream",
     "text": [
      "50\n",
      "30\n",
      "100\n",
      "30\n"
     ]
    }
   ],
   "source": [
    "x = 50\n",
    "\n",
    "def one():\n",
    "    x = 10\n",
    "    \n",
    "def two():\n",
    "    global x\n",
    "    x = 30\n",
    "    \n",
    "def three():\n",
    "    x = 100\n",
    "    print(x)\n",
    "    \n",
    "for func in [one, two, three]:\n",
    "    func()\n",
    "    print(x)\n",
    "    \n",
    "# guess: 50, 30, 100, 30"
   ]
  },
  {
   "cell_type": "markdown",
   "id": "0dee272a",
   "metadata": {},
   "source": [
    "### Closures\n",
    "\n",
    "A closure is PYthon's way of attaching nonlocal variables to a returned function so that the function can operate even when it is called outside of its parent's scope."
   ]
  },
  {
   "cell_type": "code",
   "execution_count": 16,
   "id": "fa39676e",
   "metadata": {
    "lines_to_next_cell": 2
   },
   "outputs": [
    {
     "name": "stdout",
     "output_type": "stream",
     "text": [
      "5\n"
     ]
    }
   ],
   "source": [
    "def foo():\n",
    "    a = 5\n",
    "    def bar():\n",
    "        print(a)\n",
    "    return bar\n",
    "\n",
    "func = foo()\n",
    "\n",
    "func()"
   ]
  },
  {
   "cell_type": "markdown",
   "id": "5970e106",
   "metadata": {},
   "source": [
    "When foo() returned the new bar() function, Python attached any nonlocal variable that bar() was going to need to the function object.  \n",
    "Those variables get stored in a tuple in the `__closure__` attribute of the function."
   ]
  },
  {
   "cell_type": "code",
   "execution_count": 17,
   "id": "be251ae5",
   "metadata": {},
   "outputs": [
    {
     "data": {
      "text/plain": [
       "tuple"
      ]
     },
     "execution_count": 17,
     "metadata": {},
     "output_type": "execute_result"
    }
   ],
   "source": [
    "type(func.__closure__)"
   ]
  },
  {
   "cell_type": "code",
   "execution_count": 18,
   "id": "70ef3177",
   "metadata": {},
   "outputs": [
    {
     "name": "stdout",
     "output_type": "stream",
     "text": [
      "type: <class 'tuple'>\n",
      "length: 1\n",
      "contents: 5\n"
     ]
    }
   ],
   "source": [
    "print(f\"type: {type(func.__closure__)}\")\n",
    "print(f\"length: {len(func.__closure__)}\")\n",
    "print(f\"contents: {func.__closure__[0].cell_contents}\")"
   ]
  },
  {
   "cell_type": "markdown",
   "id": "7a5b4d12",
   "metadata": {},
   "source": [
    "### Closures and Deletion\n",
    "In the following example, `x` is created in the global scope.  \n",
    "`foo()` creates a function `bar()` that prints whatever argument was passed to `foo()`.<br> \n",
    "When we call `foo()` and assign the result to \"my_func\", we pass in \"x\".  \n",
    "So, as expected, calling `my_func()` prints the value of x.  \n"
   ]
  },
  {
   "cell_type": "code",
   "execution_count": 19,
   "id": "5f3cd0c0",
   "metadata": {},
   "outputs": [
    {
     "name": "stdout",
     "output_type": "stream",
     "text": [
      "25\n"
     ]
    }
   ],
   "source": [
    "x = 25\n",
    "\n",
    "def foo(value):\n",
    "    def bar():\n",
    "        print(value)\n",
    "    return bar\n",
    "\n",
    "my_func = foo(x)\n",
    "my_func()"
   ]
  },
  {
   "cell_type": "markdown",
   "id": "168b926c",
   "metadata": {},
   "source": [
    "But, if we delete x and call my_func again, it still prints 25 because foo()'s \"value\" argument gets added to the closure attached to the new \"my_func\" function.  \n",
    "Even though \"x\" doesn't exist anymore, it's value persists in its closure."
   ]
  },
  {
   "cell_type": "code",
   "execution_count": 20,
   "id": "924511cf",
   "metadata": {},
   "outputs": [
    {
     "name": "stdout",
     "output_type": "stream",
     "text": [
      "25\n"
     ]
    }
   ],
   "source": [
    "del(x)\n",
    "my_func()"
   ]
  },
  {
   "cell_type": "markdown",
   "id": "da23fc48",
   "metadata": {},
   "source": [
    "### Closures and overwriting\n",
    "\n",
    "Nothing changes if we overwrite x instead of deleting it.  The value still persists:"
   ]
  },
  {
   "cell_type": "code",
   "execution_count": 21,
   "id": "30edc20a",
   "metadata": {},
   "outputs": [
    {
     "name": "stdout",
     "output_type": "stream",
     "text": [
      "25\n"
     ]
    }
   ],
   "source": [
    "x = 25\n",
    "\n",
    "def foo(value):\n",
    "    def bar():\n",
    "        print(value)\n",
    "    return bar\n",
    "\n",
    "x = foo(x)\n",
    "x()"
   ]
  }
 ],
 "metadata": {
  "jupytext": {
   "formats": "ipynb,py:percent",
   "text_representation": {
    "extension": ".py",
    "format_name": "percent",
    "format_version": "1.3",
    "jupytext_version": "1.11.4"
   }
  },
  "kernelspec": {
   "display_name": "Python 3",
   "language": "python",
   "name": "python3"
  },
  "language_info": {
   "codemirror_mode": {
    "name": "ipython",
    "version": 3
   },
   "file_extension": ".py",
   "mimetype": "text/x-python",
   "name": "python",
   "nbconvert_exporter": "python",
   "pygments_lexer": "ipython3",
   "version": "3.8.10"
  }
 },
 "nbformat": 4,
 "nbformat_minor": 5
}
