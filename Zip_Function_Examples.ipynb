{
 "cells": [
  {
   "cell_type": "markdown",
   "id": "932ce3db",
   "metadata": {},
   "source": [
    "# 7 Levels of Using the Zip function in Python\n",
    "by Yang Zhou in [medium](https:/medium.com/techtofreedom/7-levels-of-using-the-zip-function-in-python-a4bd22ee8bcd)  \n",
    "\n",
    "### Level 0: Basic Usage of the Zip Function  \n",
    "\n",
    "The zip function aggregates items from different <u>iterables</u>, such as lists, tuples or sets, and returns an <u>iterator</u>."
   ]
  },
  {
   "cell_type": "code",
   "execution_count": null,
   "id": "93eb9b00",
   "metadata": {},
   "outputs": [],
   "source": [
    "id = [1,2,3,4]\n",
    "leaders = ['Elon Mask', 'Tim Cook', 'Bill Gates','Yang Zhou']\n",
    "record = zip(id, leaders)\n",
    "\n",
    "print(record)\n",
    "\n",
    "print(list(record))"
   ]
  },
  {
   "cell_type": "markdown",
   "id": "7d1a40db",
   "metadata": {},
   "source": [
    "As shown above, the zip function returns an iterator of tuples, where the *i*-th tuple contains the *i*-th element from each of the lists.  \n",
    "\n",
    "### Level 1: Zip Less or More Iterables at Once  \n",
    "\n",
    "Zip can deal with any number of iterables at once rather than just two.  \n",
    "One list:"
   ]
  },
  {
   "cell_type": "code",
   "execution_count": null,
   "id": "4c361d82",
   "metadata": {},
   "outputs": [],
   "source": [
    "id = [1,2,3,4]\n",
    "record = zip(id)\n",
    "print(list(record))"
   ]
  },
  {
   "cell_type": "markdown",
   "id": "cb7f73bf",
   "metadata": {},
   "source": [
    "Three lists:"
   ]
  },
  {
   "cell_type": "code",
   "execution_count": null,
   "id": "bd7c3711",
   "metadata": {},
   "outputs": [],
   "source": [
    "id = [1,2,3,4]\n",
    "leaders = ['Elon Mask','Tim Cook','Bill Gates','Yang Zhou']\n",
    "sex = ['male','male','male','male']\n",
    "record = zip(id, leaders, sex)\n",
    "\n",
    "print(list(record))"
   ]
  },
  {
   "cell_type": "markdown",
   "id": "065d9691",
   "metadata": {},
   "source": [
    "### Level 2: Deal with Unequal Length Arguments\n",
    "\n",
    "By default, the result of the zip function is based on the shortest iterable:"
   ]
  },
  {
   "cell_type": "code",
   "execution_count": null,
   "id": "4e973189",
   "metadata": {},
   "outputs": [],
   "source": [
    "id = [1,2]\n",
    "leaders = ['Elon Mask','Tim Cook','Bill Gates','Yang Zhou']\n",
    "record = zip(id, leaders)\n",
    "\n",
    "print(list(record))"
   ]
  },
  {
   "cell_type": "markdown",
   "id": "3c607c59",
   "metadata": {},
   "source": [
    "To use the longest iterable, use `zip_longest`, with the optional `fillvalue` argument:"
   ]
  },
  {
   "cell_type": "code",
   "execution_count": null,
   "id": "3666d722",
   "metadata": {},
   "outputs": [],
   "source": [
    "from itertools import zip_longest\n",
    "id=[1,2]\n",
    "leaders = ['Elon Mask','Tim Cook','Bill Gates','Yang Zhou']\n",
    "\n",
    "long_record = zip_longest(id, leaders)\n",
    "print(list(long_record))\n",
    "\n",
    "long_record2 = zip_longest(id, leaders, fillvalue='Top')\n",
    "print(list(long_record2))"
   ]
  },
  {
   "cell_type": "markdown",
   "id": "9c35b2e7",
   "metadata": {},
   "source": [
    "### Level 3: Know the Unzip Operation\n",
    "Python doesn't have a separate unzip function, but asterisks allow us to unpack them.  \n",
    "In this example, the asterisk unpacks all four tuples from the record list:"
   ]
  },
  {
   "cell_type": "code",
   "execution_count": null,
   "id": "dee4577c",
   "metadata": {},
   "outputs": [],
   "source": [
    "record = [(1, 'Elon Mask'), (2, 'Tim Cook'), (3, 'Bill Gates'), (4,'Yang Zhou')]\n",
    "id, leaders = zip(*record)\n",
    "print(id)\n",
    "\n",
    "print(leaders)"
   ]
  },
  {
   "cell_type": "markdown",
   "id": "f7e2c024",
   "metadata": {},
   "source": [
    "The asterisk technique above is the same as this:"
   ]
  },
  {
   "cell_type": "code",
   "execution_count": null,
   "id": "d81e8183",
   "metadata": {},
   "outputs": [],
   "source": [
    "record = [(1, 'Elon Mask'), (2, 'Tim Cook'), (3, 'Bill Gates'), (4,'Yang Zhou')]\n",
    "\n",
    "print(*record)\n",
    "\n",
    "id, leaders = zip((1, 'Elon Mask'), (2, 'Tim Cook'), (3, 'Bill Gates'), (4, 'Yang Zhou'))\n",
    "print(id)\n",
    "\n",
    "print(leaders)"
   ]
  },
  {
   "cell_type": "markdown",
   "id": "e62b2442",
   "metadata": {},
   "source": [
    "### Level 4: Create and Update Dictionaries by the Zip Function\n",
    "\n",
    "There are two one-line solutions for creating or updating a `dict` based on lists:"
   ]
  },
  {
   "cell_type": "code",
   "execution_count": null,
   "id": "f39bbec6",
   "metadata": {},
   "outputs": [],
   "source": [
    "id = [1,2,3,4]\n",
    "leaders = ['Elon Mask','Tim Cook','Bill Gates','Yang Zhou']\n",
    "\n",
    "# create dict by dict comprehension\n",
    "leader_dict = {i: name for i, name in zip(id, leaders)}\n",
    "print(leader_dict)\n",
    "\n",
    "# create dict by dict function\n",
    "leader_dict_2 = dict(zip(id, leaders))\n",
    "print(leader_dict_2)\n",
    "\n",
    "# update existing dict\n",
    "other_id = [5,6]\n",
    "other_leaders = ['Larry Page','Sergey Brin']\n",
    "leader_dict.update(zip(other_id, other_leaders))\n",
    "print(leader_dict)"
   ]
  },
  {
   "cell_type": "markdown",
   "id": "b5afdb67",
   "metadata": {},
   "source": [
    "### Level 5: Use the Zip Function in For-Loops"
   ]
  },
  {
   "cell_type": "code",
   "execution_count": null,
   "id": "01cef807",
   "metadata": {},
   "outputs": [],
   "source": [
    "products = ['cherry', 'strawberry','banana']\n",
    "price = [2.5, 3, 5]\n",
    "cost = [1, 1.5, 2]\n",
    "for prod, p, c in zip(products, price, cost):\n",
    "    print(f'The profit of a box of {prod} is ${p-c}!')"
   ]
  },
  {
   "cell_type": "markdown",
   "id": "85606272",
   "metadata": {},
   "source": [
    "### Level 6: Get the Transpose of a Matrix"
   ]
  },
  {
   "cell_type": "code",
   "execution_count": null,
   "id": "5da9666f",
   "metadata": {
    "lines_to_next_cell": 2
   },
   "outputs": [],
   "source": [
    "matrix = [[1,2,3],[1,2,3]]\n",
    "matrix_T = [list(i) for i in zip(*matrix)]\n",
    "print(matrix_T)"
   ]
  }
 ],
 "metadata": {
  "jupytext": {
   "formats": "ipynb,py:percent",
   "text_representation": {
    "extension": ".py",
    "format_name": "percent",
    "format_version": "1.3",
    "jupytext_version": "1.11.4"
   }
  },
  "kernelspec": {
   "display_name": "Python 3",
   "language": "python",
   "name": "python3"
  },
  "language_info": {
   "codemirror_mode": {
    "name": "ipython",
    "version": 3
   },
   "file_extension": ".py",
   "mimetype": "text/x-python",
   "name": "python",
   "nbconvert_exporter": "python",
   "pygments_lexer": "ipython3",
   "version": "3.8.10"
  }
 },
 "nbformat": 4,
 "nbformat_minor": 5
}
