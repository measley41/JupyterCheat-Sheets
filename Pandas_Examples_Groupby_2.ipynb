{
 "cells": [
  {
   "cell_type": "markdown",
   "metadata": {},
   "source": [
    "# Reshaping Pandas DataFrames\n",
    "A guide to DataFrame manipulation using groupby, melt, pivot tables, pivot,transpose, and stack.\n",
    "\n",
    "by [Todd Birchard](https://hackingandslacking.com/@toddbirchard) on [Medium](https://hackingandslacking.com/reshaping-pandas-dataframes-6aceb55c8c27)\n",
    "\n",
    "These examples use [StackOverflow's 2018 developer survey results](https://www.kaggle.com/stackoverflow/stack-overflow-2018-developer-survey)."
   ]
  },
  {
   "cell_type": "code",
   "execution_count": 3,
   "metadata": {},
   "outputs": [
    {
     "name": "stdout",
     "output_type": "stream",
     "text": [
      "survey_results_public.csv  survey_results_schema.csv\r\n"
     ]
    }
   ],
   "source": [
    "%ls ./data/\n"
   ]
  },
  {
   "cell_type": "code",
   "execution_count": 4,
   "metadata": {},
   "outputs": [],
   "source": [
    "import pandas as pd"
   ]
  },
  {
   "cell_type": "code",
   "execution_count": 11,
   "metadata": {},
   "outputs": [],
   "source": [
    "df_raw = pd.read_csv('data/survey_results_public.csv')\n"
   ]
  },
  {
   "cell_type": "code",
   "execution_count": 29,
   "metadata": {},
   "outputs": [
    {
     "data": {
      "text/html": [
       "<div>\n",
       "<style scoped>\n",
       "    .dataframe tbody tr th:only-of-type {\n",
       "        vertical-align: middle;\n",
       "    }\n",
       "\n",
       "    .dataframe tbody tr th {\n",
       "        vertical-align: top;\n",
       "    }\n",
       "\n",
       "    .dataframe thead th {\n",
       "        text-align: right;\n",
       "    }\n",
       "</style>\n",
       "<table border=\"1\" class=\"dataframe\">\n",
       "  <thead>\n",
       "    <tr style=\"text-align: right;\">\n",
       "      <th></th>\n",
       "      <th>Respondent</th>\n",
       "      <th>Country</th>\n",
       "      <th>OpenSource</th>\n",
       "      <th>Employment</th>\n",
       "      <th>HopeFiveYears</th>\n",
       "      <th>YearsCoding</th>\n",
       "      <th>CurrencySymbol</th>\n",
       "      <th>Salary</th>\n",
       "      <th>FrameworkWorkedWith</th>\n",
       "      <th>Age</th>\n",
       "    </tr>\n",
       "  </thead>\n",
       "  <tbody>\n",
       "    <tr>\n",
       "      <th>0</th>\n",
       "      <td>1</td>\n",
       "      <td>Kenya</td>\n",
       "      <td>No</td>\n",
       "      <td>Employed part-time</td>\n",
       "      <td>Working as a founder or co-founder of my own c...</td>\n",
       "      <td>3-5 years</td>\n",
       "      <td>KES</td>\n",
       "      <td>NaN</td>\n",
       "      <td>Django;React</td>\n",
       "      <td>25 - 34 years old</td>\n",
       "    </tr>\n",
       "    <tr>\n",
       "      <th>1</th>\n",
       "      <td>3</td>\n",
       "      <td>United Kingdom</td>\n",
       "      <td>Yes</td>\n",
       "      <td>Employed full-time</td>\n",
       "      <td>Working in a different or more specialized tec...</td>\n",
       "      <td>30 or more years</td>\n",
       "      <td>GBP</td>\n",
       "      <td>51000</td>\n",
       "      <td>Django</td>\n",
       "      <td>35 - 44 years old</td>\n",
       "    </tr>\n",
       "    <tr>\n",
       "      <th>2</th>\n",
       "      <td>4</td>\n",
       "      <td>United States</td>\n",
       "      <td>Yes</td>\n",
       "      <td>Employed full-time</td>\n",
       "      <td>Working as a founder or co-founder of my own c...</td>\n",
       "      <td>24-26 years</td>\n",
       "      <td>NaN</td>\n",
       "      <td>NaN</td>\n",
       "      <td>NaN</td>\n",
       "      <td>NaN</td>\n",
       "    </tr>\n",
       "    <tr>\n",
       "      <th>3</th>\n",
       "      <td>5</td>\n",
       "      <td>United States</td>\n",
       "      <td>No</td>\n",
       "      <td>Employed full-time</td>\n",
       "      <td>Working as a founder or co-founder of my own c...</td>\n",
       "      <td>18-20 years</td>\n",
       "      <td>NaN</td>\n",
       "      <td>NaN</td>\n",
       "      <td>NaN</td>\n",
       "      <td>35 - 44 years old</td>\n",
       "    </tr>\n",
       "    <tr>\n",
       "      <th>4</th>\n",
       "      <td>7</td>\n",
       "      <td>South Africa</td>\n",
       "      <td>No</td>\n",
       "      <td>Employed full-time</td>\n",
       "      <td>Working in a different or more specialized tec...</td>\n",
       "      <td>6-8 years</td>\n",
       "      <td>ZAR</td>\n",
       "      <td>260000</td>\n",
       "      <td>NaN</td>\n",
       "      <td>18 - 24 years old</td>\n",
       "    </tr>\n",
       "  </tbody>\n",
       "</table>\n",
       "</div>"
      ],
      "text/plain": [
       "   Respondent         Country OpenSource          Employment  \\\n",
       "0           1           Kenya         No  Employed part-time   \n",
       "1           3  United Kingdom        Yes  Employed full-time   \n",
       "2           4   United States        Yes  Employed full-time   \n",
       "3           5   United States         No  Employed full-time   \n",
       "4           7    South Africa         No  Employed full-time   \n",
       "\n",
       "                                       HopeFiveYears       YearsCoding  \\\n",
       "0  Working as a founder or co-founder of my own c...         3-5 years   \n",
       "1  Working in a different or more specialized tec...  30 or more years   \n",
       "2  Working as a founder or co-founder of my own c...       24-26 years   \n",
       "3  Working as a founder or co-founder of my own c...       18-20 years   \n",
       "4  Working in a different or more specialized tec...         6-8 years   \n",
       "\n",
       "  CurrencySymbol  Salary FrameworkWorkedWith                Age  \n",
       "0            KES     NaN        Django;React  25 - 34 years old  \n",
       "1            GBP   51000              Django  35 - 44 years old  \n",
       "2            NaN     NaN                 NaN                NaN  \n",
       "3            NaN     NaN                 NaN  35 - 44 years old  \n",
       "4            ZAR  260000                 NaN  18 - 24 years old  "
      ]
     },
     "execution_count": 29,
     "metadata": {},
     "output_type": "execute_result"
    }
   ],
   "source": [
    "df = df_raw[['Respondent','Country','OpenSource','Employment',\n",
    "           'HopeFiveYears','YearsCoding','CurrencySymbol',\n",
    "           'Salary', 'FrameworkWorkedWith','Age']]#'Bash/Shell']]\n",
    "            #,'C++','Erlang','Go','Java','JavaScript']]\n",
    "df.head()"
   ]
  },
  {
   "cell_type": "code",
   "execution_count": 19,
   "metadata": {},
   "outputs": [
    {
     "data": {
      "text/html": [
       "<div>\n",
       "<style scoped>\n",
       "    .dataframe tbody tr th:only-of-type {\n",
       "        vertical-align: middle;\n",
       "    }\n",
       "\n",
       "    .dataframe tbody tr th {\n",
       "        vertical-align: top;\n",
       "    }\n",
       "\n",
       "    .dataframe thead th {\n",
       "        text-align: right;\n",
       "    }\n",
       "</style>\n",
       "<table border=\"1\" class=\"dataframe\">\n",
       "  <thead>\n",
       "    <tr style=\"text-align: right;\">\n",
       "      <th></th>\n",
       "      <th>Respondent</th>\n",
       "      <th>Country</th>\n",
       "    </tr>\n",
       "  </thead>\n",
       "  <tbody>\n",
       "    <tr>\n",
       "      <th>0</th>\n",
       "      <td>1</td>\n",
       "      <td>Kenya</td>\n",
       "    </tr>\n",
       "    <tr>\n",
       "      <th>1</th>\n",
       "      <td>3</td>\n",
       "      <td>United Kingdom</td>\n",
       "    </tr>\n",
       "    <tr>\n",
       "      <th>2</th>\n",
       "      <td>4</td>\n",
       "      <td>United States</td>\n",
       "    </tr>\n",
       "    <tr>\n",
       "      <th>3</th>\n",
       "      <td>5</td>\n",
       "      <td>United States</td>\n",
       "    </tr>\n",
       "    <tr>\n",
       "      <th>4</th>\n",
       "      <td>7</td>\n",
       "      <td>South Africa</td>\n",
       "    </tr>\n",
       "  </tbody>\n",
       "</table>\n",
       "</div>"
      ],
      "text/plain": [
       "   Respondent         Country\n",
       "0           1           Kenya\n",
       "1           3  United Kingdom\n",
       "2           4   United States\n",
       "3           5   United States\n",
       "4           7    South Africa"
      ]
     },
     "execution_count": 19,
     "metadata": {},
     "output_type": "execute_result"
    }
   ],
   "source": [
    "df = df_raw[['Respondent', 'Country']]\n",
    "df.head()"
   ]
  },
  {
   "cell_type": "code",
   "execution_count": 13,
   "metadata": {
    "scrolled": true
   },
   "outputs": [
    {
     "data": {
      "text/plain": [
       "Index(['Respondent', 'Hobby', 'OpenSource', 'Country', 'Student', 'Employment',\n",
       "       'FormalEducation', 'UndergradMajor', 'CompanySize', 'DevType',\n",
       "       ...\n",
       "       'Exercise', 'Gender', 'SexualOrientation', 'EducationParents',\n",
       "       'RaceEthnicity', 'Age', 'Dependents', 'MilitaryUS', 'SurveyTooLong',\n",
       "       'SurveyEasy'],\n",
       "      dtype='object', length=129)"
      ]
     },
     "execution_count": 13,
     "metadata": {},
     "output_type": "execute_result"
    }
   ],
   "source": [
    "df_raw.columns"
   ]
  }
 ],
 "metadata": {
  "kernelspec": {
   "display_name": "Python 3",
   "language": "python",
   "name": "python3"
  },
  "language_info": {
   "codemirror_mode": {
    "name": "ipython",
    "version": 3
   },
   "file_extension": ".py",
   "mimetype": "text/x-python",
   "name": "python",
   "nbconvert_exporter": "python",
   "pygments_lexer": "ipython3",
   "version": "3.7.3"
  }
 },
 "nbformat": 4,
 "nbformat_minor": 2
}
