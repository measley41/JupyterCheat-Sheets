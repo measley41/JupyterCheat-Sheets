{
 "cells": [
  {
   "cell_type": "markdown",
   "metadata": {},
   "source": [
    "# List Comprehensions in Python - A Simplified Guide\n",
    "\n",
    "Tutorial and Examples from [Machine Learning Plus](https://www.machinelearningplus.com/python/list-comprehensions-in-python/)"
   ]
  },
  {
   "cell_type": "markdown",
   "metadata": {},
   "source": [
    "## Contents\n",
    "### [Introduction](#Intro)  \n",
    "### [Typical format of List Comprehensions:](#Typical-Format)\n",
    "> 1. [Simple For-loop](#1)\n",
    "> 2. [For-loop with conditional filtering](#2)  \n",
    ">   a. [For-loop with nested conditions](#2a)  \n",
    "> 3. [For-loop with 'if' and 'else' condition](#3)\n",
    "> 4. [Multiple for-loops](#4)\n",
    "> 5. [Paired Outputs](#5)\n",
    "> 6. [Dictionary Comprehensions](#6)\n",
    "> 7. [Tokenizing sentences into list of words](#7)\n",
    "\n",
    "### [Practice Exercises](#Practice) (increasing level of difficulty)  \n",
    "> [Question 1](#Question-1)  \n",
    "> [Question 2](#Question-2)  \n",
    "> [Question 3](#Question-3)  \n",
    "> [Question 4](#Question-4)  \n",
    "> [Question 5](#Question-5)  \n",
    "> [Question 6](#Question-6)  \n",
    "> [Question 7](#Question-7)  \n",
    "\n",
    "### [Conclusion](#Final-Conclusion)  "
   ]
  },
  {
   "cell_type": "markdown",
   "metadata": {},
   "source": [
    "<a id='Intro'></a>\n",
    "## Introduction\n",
    "List comprehensions is a pytonic way of expressing a 'for-loop that appends to a list in a single line of code.  \n",
    "For example:  \n",
    "```\n",
    "[i for i in range(10) if i%2 == 0]\n",
    "#> [0, 2, 4, 6, 8]\n",
    "```\n",
    "The for-loop equivalent for the same logic:  \n",
    "```\n",
    "result = []\n",
    "for i in range(10):\n",
    "  if i%2 == 0:\n",
    "    result.append(i)\n",
    "```\n",
    "\n",
    "[Back to Top](#Contents)"
   ]
  },
  {
   "cell_type": "markdown",
   "metadata": {},
   "source": [
    "<a id='Typical-Format'></a>\n",
    "## Typical format of List Comprehensions\n",
    "\n",
    "A list comprehension typically has 3 components:  \n",
    "- **The Output** (which can be string, number, list or any object you want to put in the list.)\n",
    "- **For Statements** \n",
    "- **Conditional Filtering (optional)**\n",
    "\n",
    "Below is a typical format of list comprehension.  \n",
    "`[[output value] for (i initerable) if (filter conditions)]`\n",
    "\n",
    "However, this format is not a golden rule.  \n",
    "Because ther can be logics that can have multiple 'for-statements' and 'if conditions' and they can change positions as well.  The only thing that does not change however is the position of the output value, which always comes at the beginning.  \n",
    "\n",
    "Next, let's see examples of 7 different types of problems where you can use list comprehensions instead of for-loops.  \n",
    "\n",
    "[Back to Top](#Contents)\n",
    "<a id='1'></a>\n",
    "## Example Type 1: Simple for-loop\n",
    "\n",
    "***Problem Statement:*** Square each number in `mylist` and store the result as a list.  \n",
    "\n",
    "The 'For Loop' iterates over each number, squares the number and appends to a list."
   ]
  },
  {
   "cell_type": "code",
   "execution_count": 2,
   "metadata": {},
   "outputs": [
    {
     "name": "stdout",
     "output_type": "stream",
     "text": [
      "[1, 4, 9, 16, 25]\n"
     ]
    }
   ],
   "source": [
    "mylist = [1,2,3,4,5]\n",
    "\n",
    "# For Loop Version\n",
    "result = []\n",
    "for i in mylist:\n",
    "    result.append(i**2)\n",
    "    \n",
    "print(result)"
   ]
  },
  {
   "cell_type": "markdown",
   "metadata": {},
   "source": [
    "How to convert this to a list comprehension?  Take the output in the same line as the for condition and enclose the whole thing in a pair of \\[ .. \\].  \n",
    "\n",
    "**List Comprehension Solution:**"
   ]
  },
  {
   "cell_type": "code",
   "execution_count": 1,
   "metadata": {},
   "outputs": [
    {
     "name": "stdout",
     "output_type": "stream",
     "text": [
      "[1, 4, 9, 16, 25]\n"
     ]
    }
   ],
   "source": [
    "result = [i**2 for i in [1,2,3,4,5]]\n",
    "print(result)"
   ]
  },
  {
   "cell_type": "markdown",
   "metadata": {},
   "source": [
    "[Back to Top](#Contents)\n",
    "<a id='2'></a>  \n",
    "## Example type 2: for-loop with conditional filtering  \n",
    "What if you have an if condition in the for loop?  Say you want to square only the even numbers.  \n",
    "\n",
    "***Problem Statement:*** Square only the even numbers in `mylist` and store the result in a list.  \n",
    "\n",
    "**For Loop Version:**"
   ]
  },
  {
   "cell_type": "code",
   "execution_count": 3,
   "metadata": {
    "scrolled": true
   },
   "outputs": [
    {
     "name": "stdout",
     "output_type": "stream",
     "text": [
      "[4, 16]\n"
     ]
    }
   ],
   "source": [
    "mylist = [1,2,3,4,5]\n",
    "\n",
    "# For Loop Version\n",
    "result = []\n",
    "for i in mylist:\n",
    "    if i%2 == 0:\n",
    "        result.append(i**2)\n",
    "        \n",
    "print(result)"
   ]
  },
  {
   "cell_type": "markdown",
   "metadata": {},
   "source": [
    "In **list comprehension**, we add the 'if condition' after the for-loop if you want to filter the items.  \n",
    "\n",
    "**List Comprehension Solution:**"
   ]
  },
  {
   "cell_type": "code",
   "execution_count": 1,
   "metadata": {
    "scrolled": true
   },
   "outputs": [
    {
     "name": "stdout",
     "output_type": "stream",
     "text": [
      "[4, 16]\n"
     ]
    }
   ],
   "source": [
    "# List Comprehension Version\n",
    "\n",
    "result = [i**2 for i in range(1,6) if i%2 == 0]\n",
    "print(result)"
   ]
  },
  {
   "cell_type": "markdown",
   "metadata": {},
   "source": [
    "[Back to Top](#Contents)\n",
    "<a id='2a'></a>\n",
    "## Example 2A: Nested Condition\n",
    "List comprehension can be used to check nested conditions.  In the code below, we want to find which variables are divisible by 2, 4 and 5."
   ]
  },
  {
   "cell_type": "code",
   "execution_count": 2,
   "metadata": {},
   "outputs": [
    {
     "data": {
      "text/plain": [
       "[60, 80]"
      ]
     },
     "execution_count": 2,
     "metadata": {},
     "output_type": "execute_result"
    }
   ],
   "source": [
    "[x for x in [12,14,18,25,30,60,80,90] if x%2 == 0 if x%4 == 0 if x%5 == 0]"
   ]
  },
  {
   "cell_type": "markdown",
   "metadata": {},
   "source": [
    "[Back to Top](#Contents)\n",
    "<a id='3'></a>\n",
    "## Example Type 3: for-loop with 'if' and 'else' condition\n",
    "\n",
    "Let's see a case where you have an 'if-else' condition in the for-loop.  \n",
    "\n",
    "***Problem Statement:*** In `mylist`, square the number if its even, else, cube it.  \n",
    "\n",
    "**For Loop Version:**"
   ]
  },
  {
   "cell_type": "code",
   "execution_count": 5,
   "metadata": {},
   "outputs": [
    {
     "name": "stdout",
     "output_type": "stream",
     "text": [
      "[1, 4, 27, 16, 125]\n"
     ]
    }
   ],
   "source": [
    "mylist = [1, 2, 3, 4, 5]\n",
    "\n",
    "# For Loop Version\n",
    "result = []\n",
    "for i in mylist:\n",
    "    if i%2==0:\n",
    "        result.append(i**2)\n",
    "    else:\n",
    "        result.append(i**3)\n",
    "        \n",
    "print(result)"
   ]
  },
  {
   "cell_type": "markdown",
   "metadata": {},
   "source": [
    "In the previous example, we wanted to filter the even numbers.  But in this case, there is no filtering.  So put the `if` and `else` before the fo-loop itself.  \n",
    "\n",
    "**List Comprehension Solution:**"
   ]
  },
  {
   "cell_type": "code",
   "execution_count": 6,
   "metadata": {},
   "outputs": [
    {
     "data": {
      "text/plain": [
       "[1, 4, 27, 16, 125]"
      ]
     },
     "execution_count": 6,
     "metadata": {},
     "output_type": "execute_result"
    }
   ],
   "source": [
    "[i**2 if i%2==0 else i**3 for i in [1, 2, 3, 4, 5]]"
   ]
  },
  {
   "cell_type": "code",
   "execution_count": 3,
   "metadata": {},
   "outputs": [
    {
     "data": {
      "text/plain": [
       "[(1, 'Odd'),\n",
       " (2, 'Even'),\n",
       " (3, 'Odd'),\n",
       " (4, 'Even'),\n",
       " (5, 'Odd'),\n",
       " (6, 'Even'),\n",
       " (7, 'Odd'),\n",
       " (8, 'Even'),\n",
       " (9, 'Odd')]"
      ]
     },
     "execution_count": 3,
     "metadata": {},
     "output_type": "execute_result"
    }
   ],
   "source": [
    "[(i,'Even') if i%2==0 else (i,'Odd') for i in range(1,10)]"
   ]
  },
  {
   "cell_type": "markdown",
   "metadata": {},
   "source": [
    "[Back to Top](#Contents)\n",
    "<a id='4'></a>\n",
    "## Example Type 4: Multiple for-loops\n",
    "\n",
    "Now let's see a slightly complicated example that involves two for-loops.\n",
    "\n",
    "***Problem Statement:*** Flatten the matrix `mat` (a list of lists), keeping only the even numbers.  \n",
    "\n",
    "**For Loop Version:**"
   ]
  },
  {
   "cell_type": "code",
   "execution_count": 7,
   "metadata": {},
   "outputs": [
    {
     "name": "stdout",
     "output_type": "stream",
     "text": [
      "[2, 4, 6, 8, 10, 12, 14, 16]\n"
     ]
    }
   ],
   "source": [
    "# For Loop Version\n",
    "\n",
    "mat = [[1, 2, 3, 4], [5, 6, 7, 8], [9, 10, 11, 12], [13, 14, 15, 16]]\n",
    "result=[]\n",
    "for row in mat:\n",
    "    for i in row:\n",
    "        if i%2 == 0:\n",
    "            result.append(i)\n",
    "            \n",
    "print(result)"
   ]
  },
  {
   "cell_type": "markdown",
   "metadata": {},
   "source": [
    "Can you imagine what the equivalent list comprehension version would look like?  It's nearly the same as writing the lines of the for-loop one after the other.  \n",
    "\n",
    "**List Comprehension Solution:**"
   ]
  },
  {
   "cell_type": "code",
   "execution_count": 8,
   "metadata": {},
   "outputs": [
    {
     "data": {
      "text/plain": [
       "[2, 4, 6, 8, 10, 12, 14, 16]"
      ]
     },
     "execution_count": 8,
     "metadata": {},
     "output_type": "execute_result"
    }
   ],
   "source": [
    "# List Comprehension Solution\n",
    "\n",
    "[i for row in mat for i in row if i%2==0]"
   ]
  },
  {
   "cell_type": "markdown",
   "metadata": {},
   "source": [
    "[Back to Top](#Contents)  \n",
    "  \n",
    "  \n",
    "Hope you are getting a feel of list comprehensions.  Let's do one more example:\n",
    "<a id='5'></a>\n",
    "## Example 5: Paired outputs\n",
    "\n",
    "***Problem Statement:*** For each number in `list_b`, get the number and its position in `mylist` as a list of tuples.  \n",
    "  \n",
    "**For-Loop Version:**"
   ]
  },
  {
   "cell_type": "code",
   "execution_count": 9,
   "metadata": {},
   "outputs": [
    {
     "name": "stdout",
     "output_type": "stream",
     "text": [
      "[(6, 2), (4, 8), (6, 2), (1, 3), (2, 7), (2, 7)]\n"
     ]
    }
   ],
   "source": [
    "mylist = [9, 3, 6, 1, 5, 0, 8, 2, 4, 7]\n",
    "list_b = [6, 4, 6, 1, 2, 2]\n",
    "\n",
    "result = []\n",
    "for i in list_b:\n",
    "    result.append((i, mylist.index(i)))\n",
    "    \n",
    "print(result)"
   ]
  },
  {
   "cell_type": "markdown",
   "metadata": {},
   "source": [
    "**List Comprehension Solution:**  \n",
    "In this case, the output has 2 items instead of one.  So pair both of them as a tuple and place it before the for statement."
   ]
  },
  {
   "cell_type": "code",
   "execution_count": 10,
   "metadata": {
    "scrolled": true
   },
   "outputs": [
    {
     "data": {
      "text/plain": [
       "[(6, 2), (4, 8), (6, 2), (1, 3), (2, 7), (2, 7)]"
      ]
     },
     "execution_count": 10,
     "metadata": {},
     "output_type": "execute_result"
    }
   ],
   "source": [
    "[(i, mylist.index(i)) for i in list_b]"
   ]
  },
  {
   "cell_type": "markdown",
   "metadata": {},
   "source": [
    "[Back to Top](#Contents)\n",
    "<a id='6'></a>\n",
    "## Example Type 6: Dictionary Comprehensions\n",
    "\n",
    "Same problem as previous example, but output is a dictionary instead of a list of tuples.  \n",
    "***Problem Statement:*** For each number in `list_b`, get the number and its position in `mylist` as a dict.  \n",
    "\n",
    "**For Loop Version:**"
   ]
  },
  {
   "cell_type": "code",
   "execution_count": 13,
   "metadata": {},
   "outputs": [
    {
     "name": "stdout",
     "output_type": "stream",
     "text": [
      "{6: 2, 4: 8, 1: 3, 2: 7}\n"
     ]
    }
   ],
   "source": [
    "mylist = [9, 3, 6, 1, 5, 0, 8, 2, 4, 7]\n",
    "list_b = [6, 4, 6, 1, 2, 2]\n",
    "\n",
    "result={}\n",
    "for i in list_b:\n",
    "    result[i] = mylist.index(i)\n",
    "    \n",
    "print(result)"
   ]
  },
  {
   "cell_type": "markdown",
   "metadata": {},
   "source": [
    "**List Comprehension Solution:**  \n",
    "To make a dictionary output, you just need to replace the square brackets with curly brackets.  And use a `:` instead of a comma between the pairs."
   ]
  },
  {
   "cell_type": "code",
   "execution_count": 16,
   "metadata": {},
   "outputs": [
    {
     "data": {
      "text/plain": [
       "{6: 2, 4: 8, 1: 3, 2: 7}"
      ]
     },
     "execution_count": 16,
     "metadata": {},
     "output_type": "execute_result"
    }
   ],
   "source": [
    "{i: mylist.index(i) for i in list_b} "
   ]
  },
  {
   "cell_type": "markdown",
   "metadata": {},
   "source": [
    "[Return to Top](#Contents)\n",
    "<a id='7'></a>\n",
    "## Example Type 7: Tokenizing sentences into list of words  \n",
    "\n",
    "This is a slightly different way of applying list comprehension.  \n",
    "\n",
    "***Problem Statement:*** The goal is to tokenize the following 5 sentences into words, excluding the stop words.  \n",
    "\n",
    "**Input:**"
   ]
  },
  {
   "cell_type": "code",
   "execution_count": 17,
   "metadata": {},
   "outputs": [],
   "source": [
    "sentences = ['a new world record was set',\n",
    "            'in the holy city of ayodhya',\n",
    "            'on the eve of diwali on tuesday',\n",
    "            'with over three lakh diya or earthen lamps',\n",
    "            'list up simultaneously on the banks of the sarayu river']\n",
    "\n",
    "stopwords = ['for', 'a', 'of', 'the', 'and', 'to', 'in', 'on', 'with']"
   ]
  },
  {
   "cell_type": "markdown",
   "metadata": {},
   "source": [
    "**For Loop Version:**"
   ]
  },
  {
   "cell_type": "code",
   "execution_count": 18,
   "metadata": {},
   "outputs": [
    {
     "name": "stdout",
     "output_type": "stream",
     "text": [
      "[['new', 'world', 'record', 'was', 'set'], ['holy', 'city', 'ayodhya'], ['eve', 'diwali', 'tuesday'], ['over', 'three', 'lakh', 'diya', 'or', 'earthen', 'lamps'], ['list', 'up', 'simultaneously', 'banks', 'sarayu', 'river']]\n"
     ]
    }
   ],
   "source": [
    "# For Loop Version\n",
    "\n",
    "results = []\n",
    "for sentence in sentences:\n",
    "    sentence_tokens = []\n",
    "    for word in sentence.split(' '):\n",
    "        if word not in stopwords:\n",
    "            sentence_tokens.append(word)\n",
    "    results.append(sentence_tokens)\n",
    "    \n",
    "print(results)"
   ]
  },
  {
   "cell_type": "markdown",
   "metadata": {},
   "source": [
    "Before reading ahead, can you try creating the equivalent list comprehension version?  \n",
    "\n",
    "**List Comprehension Version:**  \n",
    "\n",
    "If you wanted to flatten out the words in the sentences, then the solution would have been something like this:"
   ]
  },
  {
   "cell_type": "code",
   "execution_count": 41,
   "metadata": {},
   "outputs": [
    {
     "name": "stdout",
     "output_type": "stream",
     "text": [
      "['new', 'world', 'record', 'was', 'set', 'holy', 'city', 'ayodhya', 'eve', 'diwali', 'tuesday', 'over', 'three', 'lakh', 'diya', 'or', 'earthen', 'lamps', 'list', 'up', 'simultaneously', 'banks', 'sarayu', 'river']\n"
     ]
    }
   ],
   "source": [
    "results = [word for sentence in sentences for word in sentence.split(' ') if word not in stopwords]\n",
    "print(results)"
   ]
  },
  {
   "cell_type": "markdown",
   "metadata": {},
   "source": [
    "But we want to distinguish which words belong to which sentence.  That is, the original grouping of sentences should remain intact as a list.  \n",
    "  \n",
    "To achieve this, the entire second unit of for-loop, that is, the  \n",
    "`[word for word in sentence.split(' ') if word not in stopwords]`  \n",
    "part should be considered as an output and therefore will go at the beginning of the list comprehension."
   ]
  },
  {
   "cell_type": "code",
   "execution_count": 49,
   "metadata": {},
   "outputs": [
    {
     "data": {
      "text/plain": [
       "[['new', 'world', 'record', 'was', 'set'],\n",
       " ['holy', 'city', 'ayodhya'],\n",
       " ['eve', 'diwali', 'tuesday'],\n",
       " ['over', 'three', 'lakh', 'diya', 'or', 'earthen', 'lamps'],\n",
       " ['list', 'up', 'simultaneously', 'banks', 'sarayu', 'river']]"
      ]
     },
     "execution_count": 49,
     "metadata": {},
     "output_type": "execute_result"
    }
   ],
   "source": [
    "# List Comprehension Version\n",
    "\n",
    "[[word for word in sentence.split(' ') if word not in stopwords] for sentence in sentences]"
   ]
  },
  {
   "cell_type": "markdown",
   "metadata": {},
   "source": [
    "[Return to Top](#Contents)\n",
    "<a id='Practice'></a>\n",
    "## Practice Exercises (increasing level of difficulty)\n",
    "\n",
    "<a id='Question 1'></a>\n",
    "### Question 1\n",
    "***Problem Statement:*** Given a 1D list, negate all elements which are between 3 and 8, using list comprehensions.\n",
    "\n",
    "```\n",
    "# Input\n",
    "mylist = [1, 2, 3, 4, 5, 6, 7, 8, 9, 10]\n",
    "\n",
    "# Desired Output\n",
    "[1, 2, -3, -4, -5, -6, -7, -8, 9, 10]\n",
    "```"
   ]
  },
  {
   "cell_type": "code",
   "execution_count": 57,
   "metadata": {},
   "outputs": [
    {
     "name": "stdout",
     "output_type": "stream",
     "text": [
      "[1, 2, -3, -4, -5, -6, -7, -8, 9, 10]\n"
     ]
    }
   ],
   "source": [
    "# Input\n",
    "mylist = [1, 2, 3, 4, 5, 6, 7, 8, 9, 10]\n",
    "\n",
    "result = [-i if 3 <=i <= 8 else i for i in mylist]\n",
    "\n",
    "print(result)"
   ]
  },
  {
   "cell_type": "markdown",
   "metadata": {},
   "source": [
    "[Return to Top](#Contents)\n",
    "<a id='Question 2'></a>\n",
    "### Question 2  \n",
    "***Problem Statement:***  Make a dictionary of the 26 letters in the English alphabet, mapping each with the corresponding integer.\n",
    "\n",
    "```\n",
    "# Desired output\n",
    "{'a': 1, 'b': 2, 'c': 3, 'd': 4, 'e': 5, 'f': 6,\n",
    "'g': 7, 'h': 8, 'i': 9, 'j': 10, 'k': 11, 'l': 12,\n",
    "'m': 13, 'n': 14, 'o': 15, 'p': 16, 'q': 17, 'r': 18,\n",
    "'s': 19, 't': 20, 'u': 21, 'v': 22, 'w': 23, 'x': 24,\n",
    "'y': 25, 'z': 26}\n",
    "```"
   ]
  },
  {
   "cell_type": "code",
   "execution_count": 65,
   "metadata": {},
   "outputs": [
    {
     "name": "stdout",
     "output_type": "stream",
     "text": [
      "{'a': 0, 'b': 1, 'c': 2, 'd': 3, 'e': 4, 'f': 5, 'g': 6, 'h': 7, 'i': 8, 'j': 9, 'k': 10, 'l': 11, 'm': 12, 'n': 13, 'o': 14, 'p': 15, 'q': 16, 'r': 17, 's': 18, 't': 19, 'u': 20, 'v': 21, 'w': 22, 'x': 23, 'y': 24, 'z': 25}\n"
     ]
    }
   ],
   "source": [
    "alphabet = ['a', 'b', 'c', 'd', 'e', 'f', 'g', 'h', 'i', 'j', 'k', 'l', 'm', 'n', 'o', 'p', 'q',\n",
    "           'r', 's', 't', 'u', 'v', 'w', 'x', 'y', 'z']\n",
    "result = {i: alphabet.index(i) for i in alphabet }\n",
    "print(result)"
   ]
  },
  {
   "cell_type": "code",
   "execution_count": 64,
   "metadata": {
    "scrolled": false
   },
   "outputs": [
    {
     "data": {
      "text/plain": [
       "{'a': 1,\n",
       " 'b': 2,\n",
       " 'c': 3,\n",
       " 'd': 4,\n",
       " 'e': 5,\n",
       " 'f': 6,\n",
       " 'g': 7,\n",
       " 'h': 8,\n",
       " 'i': 9,\n",
       " 'j': 10,\n",
       " 'k': 11,\n",
       " 'l': 12,\n",
       " 'm': 13,\n",
       " 'n': 14,\n",
       " 'o': 15,\n",
       " 'p': 16,\n",
       " 'q': 17,\n",
       " 'r': 18,\n",
       " 's': 19,\n",
       " 't': 20,\n",
       " 'u': 21,\n",
       " 'v': 22,\n",
       " 'w': 23,\n",
       " 'x': 24,\n",
       " 'y': 25,\n",
       " 'z': 26}"
      ]
     },
     "execution_count": 64,
     "metadata": {},
     "output_type": "execute_result"
    }
   ],
   "source": [
    "# Their answer:\n",
    "import string\n",
    "{a:i+1 for a, i in zip(string.ascii_letters[:26], range(26))}"
   ]
  },
  {
   "cell_type": "markdown",
   "metadata": {},
   "source": [
    "[Return to Top](#Contents)\n",
    "<a id='Question 3'></a>\n",
    "### Question 3\n",
    "***Problem Statement:*** Replace all alphabets in the string 'Lee Quan Yew', by substituting the alphabet with the corresponding numbers, like 1 for 'a', 2 for 'b' and so on.  \n",
    "\n",
    "Desired Output:\n",
    "\n",
    "`[12, 5, 5, ' ', 17, 21, 1, 14, ' ', 25, 5, 23]`"
   ]
  },
  {
   "cell_type": "code",
   "execution_count": 86,
   "metadata": {
    "scrolled": true
   },
   "outputs": [
    {
     "data": {
      "text/plain": [
       "[12, 5, 5, ' ', 17, 21, 1, 14, ' ', 25, 5, 23]"
      ]
     },
     "execution_count": 86,
     "metadata": {},
     "output_type": "execute_result"
    }
   ],
   "source": [
    "import string\n",
    "\n",
    "d = {a:i+1 for a, i in zip(string.ascii_lowercase, range(26))}\n",
    "[d.get(a.lower(), ' ') for a in 'Lee Quan Yew']\n"
   ]
  },
  {
   "cell_type": "markdown",
   "metadata": {},
   "source": [
    "[Return to Top](#Contents)\n",
    "<a id='Question 4'></a>\n",
    "### Question 4\n",
    "***Problem Statement:*** Get the unique list of words from the following sentences, excluding any stopwords.  \n",
    "```\n",
    "sentences = [\"The Hubble Space telescope has spotted\",\n",
    "            \"a formation of galaxies that resembles\",\n",
    "            \"a smiling face in the sky\"]\n",
    "\n",
    "# Desired Output:\n",
    "  {'face', 'formation', 'galaxies', 'has', 'hubble', 'resembles',\n",
    "  'sky', 'smiling', 'space', 'spotted', 'telescope', 'that', 'the'}\n",
    " ```"
   ]
  },
  {
   "cell_type": "code",
   "execution_count": 100,
   "metadata": {},
   "outputs": [
    {
     "data": {
      "text/plain": [
       "{'face',\n",
       " 'formation',\n",
       " 'galaxies',\n",
       " 'has',\n",
       " 'hubble',\n",
       " 'resembles',\n",
       " 'sky',\n",
       " 'smiling',\n",
       " 'space',\n",
       " 'spotted',\n",
       " 'telescope',\n",
       " 'that',\n",
       " 'the'}"
      ]
     },
     "execution_count": 100,
     "metadata": {},
     "output_type": "execute_result"
    }
   ],
   "source": [
    "# Given:\n",
    "sentences = [\"The Hubble Space telescope has spotted\",\n",
    "            \"a formation of galaxies that resembles\",\n",
    "            \"a smiling face in the sky\"]\n",
    "\n",
    "stopwords = ['for', 'a', 'of', 'the', 'and', 'to', 'in', 'on', 'with']\n",
    "\n",
    "# Answer:\n",
    "{word.lower() for sentence in sentences for word in sentence.split(' ') if word not in stopwords}"
   ]
  },
  {
   "cell_type": "markdown",
   "metadata": {},
   "source": [
    "[Return to Top](#Contents)\n",
    "<a id='Question 5'></a>\n",
    "### Question 5\n",
    "***Problem Statement:*** Tokenize the following sentences excluding all stopwords and punctuations."
   ]
  },
  {
   "cell_type": "code",
   "execution_count": 102,
   "metadata": {},
   "outputs": [],
   "source": [
    "sentences = [\"The Hubble Space Telescope has spotted\",\n",
    "            \"a formation of galaxies that resembles\",\n",
    "            \"a smiling face in the sky\",\n",
    "            \"The image taken with the Wide Field Camera\",\n",
    "            \"shows a patch of space filled with galaxies\",\n",
    "            \"of all shapes, colours and sizes\"]\n",
    "\n",
    "stopwords = ['for', 'a', 'of', 'the', 'and', 'to', 'in', 'on', 'with']\n",
    "\n",
    "# Desired Output\n",
    "#> [['the', 'hubble', 'space', 'telescope', 'has', 'spotted'],\n",
    "#> ['formation', 'galaxies', 'that', 'resembles'],\n",
    "#> ['smiling', 'face', 'sky'],\n",
    "#> ['the', 'image', 'taken', 'wide', 'field', 'camera'],\n",
    "#> ['shows', 'patch', 'space', 'filled', 'galaxies'],\n",
    "#> ['all', 'shapes', 'colours', 'sizes']]"
   ]
  },
  {
   "cell_type": "code",
   "execution_count": 103,
   "metadata": {},
   "outputs": [
    {
     "data": {
      "text/plain": [
       "[['the', 'hubble', 'space', 'telescope', 'has', 'spotted'],\n",
       " ['formation', 'galaxies', 'that', 'resembles'],\n",
       " ['smiling', 'face', 'sky'],\n",
       " ['the', 'image', 'taken', 'wide', 'field', 'camera'],\n",
       " ['shows', 'patch', 'space', 'filled', 'galaxies'],\n",
       " ['all', 'shapes,', 'colours', 'sizes']]"
      ]
     },
     "execution_count": 103,
     "metadata": {},
     "output_type": "execute_result"
    }
   ],
   "source": [
    "# Answer:\n",
    "[[word.lower() for word in sentence.split(' ') if word not in stopwords] for sentence in sentences]"
   ]
  },
  {
   "cell_type": "markdown",
   "metadata": {},
   "source": [
    "[Return to Top](#Contents)\n",
    "<a id='Question 6'></a>\n",
    "### Question 6\n",
    "***Problem Statement:*** Create a list of `[word:id]` pairs for all words in the following sentences, where `id` is the sentence index."
   ]
  },
  {
   "cell_type": "code",
   "execution_count": 104,
   "metadata": {},
   "outputs": [
    {
     "data": {
      "text/plain": [
       "[('the', 0),\n",
       " ('hubble', 0),\n",
       " ('space', 0),\n",
       " ('telescope', 0),\n",
       " ('has', 0),\n",
       " ('spotted', 0),\n",
       " ('a', 1),\n",
       " ('formation', 1),\n",
       " ('of', 1),\n",
       " ('galaxies', 1),\n",
       " ('that', 1),\n",
       " ('resembles', 1),\n",
       " ('a', 2),\n",
       " ('smiling', 2),\n",
       " ('face', 2),\n",
       " ('in', 2),\n",
       " ('the', 2),\n",
       " ('sky', 2)]"
      ]
     },
     "execution_count": 104,
     "metadata": {},
     "output_type": "execute_result"
    }
   ],
   "source": [
    "# Input\n",
    "sentences = [\"The Hubble Space telescope has spotted\",\n",
    "            \"a formation of galaxies that resembles\",\n",
    "            \"a smiling face in the sky\"]\n",
    "\n",
    "# Desired Output:\n",
    "# [('the', 0), ('hubble', 0), ('space', 0), ('telescope', 0), ('has', 0), ('spotted', 0),\n",
    "# ('a', 1), ('formation', 1), ('of', 1), ('galaxies', 1), ('that', 1), ('resembles', 1),\n",
    "# ('a', 2), ('smiling', 2), ('face', 2), ('in', 2), ('the', 2), ('sky', 2)]\n",
    "\n",
    "# Answer:\n",
    "\n",
    "[(word.lower(), i) for i, sentence in enumerate(sentences) for word in sentence.split(' ')]"
   ]
  },
  {
   "cell_type": "markdown",
   "metadata": {},
   "source": [
    "[Return to Top](#Contents)\n",
    "<a id='Question 7'></a>\n",
    "### Question 7\n",
    "***Problem Statement:*** Print the inner positions of the 64 squares in a chess board, replacing the boundary squares with the string '----'.\n",
    "\n",
    "```\n",
    "# Desired Output:\n",
    "[['----', '----', '----', '----', '----', '----', '----', '----'],\n",
    "['----', (1, 1), (2, 1), (3, 1), (4, 1), (5, 1), (6, 1), '----'],\n",
    "['----', (1, 2), (2, 2), (3, 2), (4, 2), (5, 2), (6, 2), '----'],\n",
    "['----', (1, 3), (2, 3), (3, 3), (4, 3), (5, 3), (6, 3), '----'],\n",
    "['----', (1, 4), (2, 4), (3, 4), (4, 4), (5, 4), (6, 4), '----'],\n",
    "['----', (1, 5), (2, 5), (3, 5), (4, 5), (5, 5), (6, 5), '----'],\n",
    "['----', (1, 6), (2, 6), (3, 6), (4, 6), (5, 6), (6, 6), '----'],\n",
    "['----', '----', '----', '----', '----', '----', '----', '----']]\n",
    "```"
   ]
  },
  {
   "cell_type": "code",
   "execution_count": 105,
   "metadata": {
    "scrolled": true
   },
   "outputs": [
    {
     "data": {
      "text/plain": [
       "[['----', '----', '----', '----', '----', '----', '----', '----'],\n",
       " ['----', (1, 1), (2, 1), (3, 1), (4, 1), (5, 1), (6, 1), '----'],\n",
       " ['----', (1, 2), (2, 2), (3, 2), (4, 2), (5, 2), (6, 2), '----'],\n",
       " ['----', (1, 3), (2, 3), (3, 3), (4, 3), (5, 3), (6, 3), '----'],\n",
       " ['----', (1, 4), (2, 4), (3, 4), (4, 4), (5, 4), (6, 4), '----'],\n",
       " ['----', (1, 5), (2, 5), (3, 5), (4, 5), (5, 5), (6, 5), '----'],\n",
       " ['----', (1, 6), (2, 6), (3, 6), (4, 6), (5, 6), (6, 6), '----'],\n",
       " ['----', '----', '----', '----', '----', '----', '----', '----']]"
      ]
     },
     "execution_count": 105,
     "metadata": {},
     "output_type": "execute_result"
    }
   ],
   "source": [
    "[[(i,j) if (i not in (0, 7)) and (j not in (0, 7)) else ('----') for i in range(8)] for j in range(8)]"
   ]
  },
  {
   "cell_type": "markdown",
   "metadata": {},
   "source": [
    "<a id='Final-Conclusion'></a>\n",
    "## Conclusion\n",
    "I still have alot to learn.  ;) \n",
    "\n",
    "[Return to Top](#Contents)"
   ]
  }
 ],
 "metadata": {
  "kernelspec": {
   "display_name": "Python 3",
   "language": "python",
   "name": "python3"
  },
  "language_info": {
   "codemirror_mode": {
    "name": "ipython",
    "version": 3
   },
   "file_extension": ".py",
   "mimetype": "text/x-python",
   "name": "python",
   "nbconvert_exporter": "python",
   "pygments_lexer": "ipython3",
   "version": "3.7.4"
  }
 },
 "nbformat": 4,
 "nbformat_minor": 4
}
