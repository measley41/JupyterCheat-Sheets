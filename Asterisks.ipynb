{
 "cells": [
  {
   "cell_type": "markdown",
   "id": "04726811",
   "metadata": {},
   "source": [
    "## 5 Uses of Asterisks in Python\n",
    "From [medium.com](https://medium.com/techtofreedom/5-uses-of-asterisks-in-python-3007911c198f) by Yang Zhou\n",
    "\n",
    "### Use 1: Multiplication or Exponentiation Operator\n",
    "- Single `*` for multiplication  \n",
    "```\n",
    ">>> 2*3  \n",
    ">>> 6\n",
    "```\n",
    "- Double `**` for exponentiation\n",
    "```\n",
    ">>> 2**3\n",
    ">>> 8\n",
    "```\n",
    "\n",
    "### Use 2: To Receive an Unlimited Number of Arguments"
   ]
  },
  {
   "cell_type": "code",
   "execution_count": 1,
   "id": "3fb32b88",
   "metadata": {},
   "outputs": [
    {
     "name": "stdout",
     "output_type": "stream",
     "text": [
      "<class 'tuple'>\n",
      "Elon Mask\n",
      "Mark Zuckerberg \n",
      "Yang Zhou\n",
      "\n",
      "<class 'dict'>\n",
      "Top1 Elon Mask\n",
      "Top2 Mark Zuckerberg\n",
      "Top3 Yang Zhou\n"
     ]
    }
   ],
   "source": [
    "def print_genius(*names):\n",
    "    print(type(names))\n",
    "    for n in names:\n",
    "        print(n)\n",
    "        \n",
    "print_genius('Elon Mask', 'Mark Zuckerberg ', 'Yang Zhou')\n",
    "print()\n",
    "\n",
    "def top_genius(**names):\n",
    "    print(type(names))\n",
    "    for k, v in names.items():\n",
    "        print(k,v)\n",
    "        \n",
    "top_genius(Top1='Elon Mask',Top2='Mark Zuckerberg', Top3='Yang Zhou')"
   ]
  },
  {
   "cell_type": "markdown",
   "id": "131617c6",
   "metadata": {},
   "source": [
    "- A parameter prefixed by one `*` can capture any number of positional agruments into a `tuple`.\n",
    "- A parameter prefixed by two `**` can capture any number of keyword arguments into a `dict`.  \n",
    "\n",
    "By convention, we define a function like the following if the number of its arguments cannot be determined:  \n",
    "\n",
    "```\n",
    "def func(*args, **kwargs):\n",
    "  pass\n",
    "```\n",
    "\n",
    "### Use 3: Restrict to Keyword-Only Arguments"
   ]
  },
  {
   "cell_type": "code",
   "execution_count": 2,
   "id": "b514ee60",
   "metadata": {},
   "outputs": [
    {
     "ename": "TypeError",
     "evalue": "genius() takes 0 positional arguments but 2 were given",
     "output_type": "error",
     "traceback": [
      "\u001b[0;31m---------------------------------------------------------------------------\u001b[0m",
      "\u001b[0;31mTypeError\u001b[0m                                 Traceback (most recent call last)",
      "\u001b[0;32m<ipython-input-2-9bd97877410d>\u001b[0m in \u001b[0;36m<module>\u001b[0;34m\u001b[0m\n\u001b[1;32m      2\u001b[0m     \u001b[0mprint\u001b[0m\u001b[0;34m(\u001b[0m\u001b[0mfirst_name\u001b[0m\u001b[0;34m,\u001b[0m \u001b[0mlast_name\u001b[0m\u001b[0;34m)\u001b[0m\u001b[0;34m\u001b[0m\u001b[0;34m\u001b[0m\u001b[0m\n\u001b[1;32m      3\u001b[0m \u001b[0;34m\u001b[0m\u001b[0m\n\u001b[0;32m----> 4\u001b[0;31m \u001b[0mgenius\u001b[0m\u001b[0;34m(\u001b[0m\u001b[0;34m'Yang'\u001b[0m\u001b[0;34m,\u001b[0m\u001b[0;34m'Zhou'\u001b[0m\u001b[0;34m)\u001b[0m\u001b[0;34m\u001b[0m\u001b[0;34m\u001b[0m\u001b[0m\n\u001b[0m",
      "\u001b[0;31mTypeError\u001b[0m: genius() takes 0 positional arguments but 2 were given"
     ]
    }
   ],
   "source": [
    "def genius(*, first_name, last_name):\n",
    "    print(first_name, last_name)\n",
    "    \n",
    "genius('Yang','Zhou')"
   ]
  },
  {
   "cell_type": "code",
   "execution_count": 3,
   "id": "b754500d",
   "metadata": {},
   "outputs": [
    {
     "name": "stdout",
     "output_type": "stream",
     "text": [
      "Yang Zhou\n"
     ]
    }
   ],
   "source": [
    "def genius(*, first_name, last_name):\n",
    "    print(first_name, last_name)\n",
    "    \n",
    "genius(first_name='Yang',last_name='Zhou')"
   ]
  },
  {
   "cell_type": "markdown",
   "id": "88acd19c",
   "metadata": {},
   "source": [
    "As shown in the example, arguments following one `*` must be passed as keyword arguments.  \n",
    "We can also mix types to have a few positional arguments and restrict a few to keyword-only."
   ]
  },
  {
   "cell_type": "code",
   "execution_count": 4,
   "id": "ddd02581",
   "metadata": {
    "lines_to_next_cell": 2
   },
   "outputs": [
    {
     "name": "stdout",
     "output_type": "stream",
     "text": [
      "Yang Zhou is 28\n"
     ]
    }
   ],
   "source": [
    "def genius(age, *, first_name, last_name):\n",
    "    print(first_name, last_name, 'is', age)\n",
    "    \n",
    "genius(28, first_name='Yang',last_name='Zhou')"
   ]
  },
  {
   "cell_type": "markdown",
   "id": "8927811e",
   "metadata": {},
   "source": [
    "### Use 4: Iterables Unpacking\n",
    "We can use asterisks to unpack <u>iterables</u>.<br>\n",
    "For example, to combine different iterables, such as one list, one tuple, and one set into a new list, we can use `for` loops:"
   ]
  },
  {
   "cell_type": "code",
   "execution_count": 5,
   "id": "0a3efd8b",
   "metadata": {},
   "outputs": [
    {
     "name": "stdout",
     "output_type": "stream",
     "text": [
      "[1, 2, 3, 4, 5, 6, 8, 9, 7]\n"
     ]
    }
   ],
   "source": [
    "A=[1,2,3]\n",
    "B = (4,5,6)\n",
    "C = {7, 8, 9}\n",
    "L = []\n",
    "\n",
    "for a in A:\n",
    "    L.append(a)\n",
    "    \n",
    "for b in B:\n",
    "    L.append(b)\n",
    "    \n",
    "for c in C:\n",
    "    L.append(c)\n",
    "    \n",
    "print(L)"
   ]
  },
  {
   "cell_type": "markdown",
   "id": "26b6b639",
   "metadata": {},
   "source": [
    "We could also use list comprehensions:"
   ]
  },
  {
   "cell_type": "code",
   "execution_count": 6,
   "id": "5d9c118f",
   "metadata": {},
   "outputs": [
    {
     "name": "stdout",
     "output_type": "stream",
     "text": [
      "[1, 2, 3, 4, 5, 6, 8, 9, 7]\n"
     ]
    }
   ],
   "source": [
    "A=[1,2,3]\n",
    "B = (4,5,6)\n",
    "C = {7, 8, 9}\n",
    "\n",
    "L = [a for a in A] + [b for b in B] + [c for c in C]\n",
    "print(L)"
   ]
  },
  {
   "cell_type": "markdown",
   "id": "7d741bf7",
   "metadata": {},
   "source": [
    "But asterisks are the cleanest and simplest:"
   ]
  },
  {
   "cell_type": "code",
   "execution_count": 7,
   "id": "e0b5d660",
   "metadata": {},
   "outputs": [
    {
     "name": "stdout",
     "output_type": "stream",
     "text": [
      "[1, 2, 3, 4, 5, 6, 8, 9, 7]\n"
     ]
    }
   ],
   "source": [
    "A=[1,2,3]\n",
    "B = (4,5,6)\n",
    "C = {7, 8, 9}\n",
    "\n",
    "L = [*A, *B, *C]\n",
    "print(L)"
   ]
  },
  {
   "cell_type": "markdown",
   "id": "64cbfa23",
   "metadata": {},
   "source": [
    "If we use one single `*` as a prefix of a `dict`, its keys will be unpacked.  If we use double asterisks `**` as a prefix, its values will be unpacked.  However, we must use their keys to receive the unpacked values.  Because of this inconvenience, it's not common to extract items of a `dict` by asterisks."
   ]
  },
  {
   "cell_type": "code",
   "execution_count": 8,
   "id": "fa980768",
   "metadata": {},
   "outputs": [
    {
     "name": "stdout",
     "output_type": "stream",
     "text": [
      "first second third\n"
     ]
    }
   ],
   "source": [
    "D = {'first':1, 'second':2, 'third':3}\n",
    "\n",
    "print(*D)"
   ]
  },
  {
   "cell_type": "code",
   "execution_count": 9,
   "id": "584aee71",
   "metadata": {},
   "outputs": [
    {
     "ename": "TypeError",
     "evalue": "'first' is an invalid keyword argument for print()",
     "output_type": "error",
     "traceback": [
      "\u001b[0;31m---------------------------------------------------------------------------\u001b[0m",
      "\u001b[0;31mTypeError\u001b[0m                                 Traceback (most recent call last)",
      "\u001b[0;32m<ipython-input-9-1ea2c5a046ce>\u001b[0m in \u001b[0;36m<module>\u001b[0;34m\u001b[0m\n\u001b[0;32m----> 1\u001b[0;31m \u001b[0mprint\u001b[0m\u001b[0;34m(\u001b[0m\u001b[0;34m**\u001b[0m\u001b[0mD\u001b[0m\u001b[0;34m)\u001b[0m\u001b[0;34m\u001b[0m\u001b[0;34m\u001b[0m\u001b[0m\n\u001b[0m",
      "\u001b[0;31mTypeError\u001b[0m: 'first' is an invalid keyword argument for print()"
     ]
    }
   ],
   "source": [
    "print(**D)"
   ]
  },
  {
   "cell_type": "code",
   "execution_count": 10,
   "id": "20dadb60",
   "metadata": {},
   "outputs": [
    {
     "name": "stdout",
     "output_type": "stream",
     "text": [
      "1,2,3\n"
     ]
    }
   ],
   "source": [
    "print('{first},{second},{third}'.format(**D))"
   ]
  },
  {
   "cell_type": "markdown",
   "id": "9db4c5e4",
   "metadata": {},
   "source": [
    "### Use 5: Extended Iterable Unpacking"
   ]
  },
  {
   "cell_type": "code",
   "execution_count": 11,
   "id": "68536cf1",
   "metadata": {},
   "outputs": [
    {
     "name": "stdout",
     "output_type": "stream",
     "text": [
      "1\n",
      "[2, 3, 4, 5, 6, 7, 8]\n"
     ]
    }
   ],
   "source": [
    "L = [1,2,3,4,5,6,7,8]\n",
    "\n",
    "a, *b = L\n",
    "\n",
    "print(a)\n",
    "\n",
    "print(b)"
   ]
  }
 ],
 "metadata": {
  "jupytext": {
   "formats": "ipynb,py:percent",
   "text_representation": {
    "extension": ".py",
    "format_name": "percent",
    "format_version": "1.3",
    "jupytext_version": "1.11.4"
   }
  },
  "kernelspec": {
   "display_name": "Python 3",
   "language": "python",
   "name": "python3"
  },
  "language_info": {
   "codemirror_mode": {
    "name": "ipython",
    "version": 3
   },
   "file_extension": ".py",
   "mimetype": "text/x-python",
   "name": "python",
   "nbconvert_exporter": "python",
   "pygments_lexer": "ipython3",
   "version": "3.8.10"
  }
 },
 "nbformat": 4,
 "nbformat_minor": 5
}
