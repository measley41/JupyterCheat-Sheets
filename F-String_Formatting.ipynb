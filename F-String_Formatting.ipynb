{
 "cells": [
  {
   "cell_type": "markdown",
   "metadata": {},
   "source": [
    "# F-string Formatting\n",
    "\n",
    "Sources:  \n",
    "[Jacqueline Masloff, PhD](http://cis.bentley.edu/sandbox/wp-content/uploads/Documentation-on-f-strings.pdf)  \n",
    "[Python: f-string formatting cheatsheet](https://myshell.co.uk/blog/2018/11/python-f-string-formatting-cheatsheet/)\n"
   ]
  },
  {
   "cell_type": "markdown",
   "metadata": {},
   "source": [
    "To use formatted string literals, begin a string with an **f** or **F** before the opening quotation mark or triple quotation mark.  Inside this string, you can write a Python expression between **{ }** characters that can refer to variables or literal values.    \n",
    "\n",
    "### Format specification:\n",
    "> \\[ \\[ fill ] align ] \\[ sign ] \\[ # ] \\[ 0 ] \\[ width ] \\[ grouping_option ] \\[ .precision ] \\[ type ]"
   ]
  },
  {
   "cell_type": "markdown",
   "metadata": {},
   "source": [
    "## Alignment and Fill\n",
    "\n",
    "`f'{\"test\":#>10}'`  \n",
    "\\# is any letter or number to be used for the fill  \n",
    "\\> for right alignment (see options below)  \n",
    "10 is for the number of characters to reserve for this field.\n",
    "\n",
    "| Option | Meaning |\n",
    "|:------:|:--------|\n",
    "|<       | Forces the field to be left-aligned within the available space <br>(this is the default for most objects.)|\n",
    "|>       | Forces the field to be right aligned within the available space <br>(this is the default for numbers.)    |\n",
    "|=       | Forces the padding to be placed after the sign (if any) but before the digits.<br>This is used for printing fields in the form '+000000120'.  This alignment option is only valid for numeric types.<br>It becomes the default when '0' immediately precedes the field width. |\n",
    "|^       | Forces the field to be centered within the available space.                                               |\n"
   ]
  },
  {
   "cell_type": "code",
   "execution_count": 22,
   "metadata": {},
   "outputs": [
    {
     "name": "stdout",
     "output_type": "stream",
     "text": [
      "Left Text           ###Centered Text###          Right Text\n"
     ]
    }
   ],
   "source": [
    "left_alignment = 'Left Text'\n",
    "right_alignment = 'Right Text'\n",
    "center_alignment = 'Centered Text'\n",
    "\n",
    "print(f'{left_alignment:<20}{center_alignment:#^19}{right_alignment:>20}')\n"
   ]
  },
  {
   "cell_type": "code",
   "execution_count": 26,
   "metadata": {
    "scrolled": true
   },
   "outputs": [
    {
     "name": "stdout",
     "output_type": "stream",
     "text": [
      "Name         Ages    Division   id   \n",
      "Bob           32        A     0001234\n",
      "Mary          40        B     0005748\n",
      "Dan           55        A     0002341\n",
      "Bubba         20        D     0009823\n"
     ]
    }
   ],
   "source": [
    "names = ['Bob', 'Mary', 'Dan', 'Bubba']\n",
    "ages = [32, 40, 55, 20]\n",
    "div = ['A', 'B', 'A', 'D']\n",
    "id = [1234, 5748, 2341, 9823]\n",
    "\n",
    "print(f\"{'Name':<10}{'Ages':^10}{'Division':^10}{'id':^7}\")\n",
    "\n",
    "for i in range(4):\n",
    "    print(f'{names[i]:<10}{ages[i]:^10}{div[i]:^10}{id[i]:0>7}')\n",
    "    "
   ]
  },
  {
   "cell_type": "markdown",
   "metadata": {},
   "source": [
    "### Sign (+/-)"
   ]
  },
  {
   "cell_type": "code",
   "execution_count": 36,
   "metadata": {},
   "outputs": [
    {
     "name": "stdout",
     "output_type": "stream",
     "text": [
      "{num:+} to show sign with positive +123 and negative -123 numbers\n",
      "{num:05} to pad with positive 00123 and negative -0123 numbers\n",
      "{num:+010} to pad and show sign with positive +000000123 and negative -000000123 numbers\n",
      "123\n"
     ]
    }
   ],
   "source": [
    "num = 123\n",
    "neg_num = -123\n",
    "print(f'{{num:+}} to show sign with positive {num:+} and negative {neg_num:+} numbers')\n",
    "print(f'{{num:05}} to pad with positive {num:05} and negative {neg_num:05} numbers')\n",
    "print(f'{{num:+010}} to pad and show sign with positive {num:+010} and negative {neg_num:+010} numbers')\n",
    "print(f'{num}')"
   ]
  },
  {
   "cell_type": "markdown",
   "metadata": {},
   "source": [
    "### Data Types\n",
    "\n",
    "|Type| Meaning        | Description                                                                                        |\n",
    "|:--:|:---------------|:---------------------------------------------------------------------------------------------------|\n",
    "| s  | String format  | this is the default type for strings                                                               |\n",
    "| d  | Decimal integer| Outputs the number in base 10                                                                      |\n",
    "| n  | Number         | This is the same as **d** except that it uses the current locale setting to insert the appropriate number separator characters.                                                                                               |\n",
    "| e  | Exponent       | Prints the number in scientific notation using the letter 'e' to indicate the exponent.  The default precision is 6.                                                                                                            |\n",
    "| f  | Fixed-point    | Displays the number as a fixed-point number.  The default precision is 6.                          |\n",
    "| n  | Number         | This is the same as **g**, except that it uses the current locale setting to insert the appropriate number separator characters.                                                                                               |\n",
    "| %  | Percentage     | Multiplied the number by 100 and displays in fixed **('f')** format, followed by a percent sign    |\n",
    "| b  | Binary         | Converted to binary: f'{10:b}' displays '1010'                                                     |\n",
    "| x | Hex             | Converted to hex: f'{200:x}' displays 'c8'                                                         |   \n",
    "| o | Octal           | Converted to octal: f'{10:o}' displays '12'                                                        |\n",
    "| c | Character       | Character type: f'{65:c}' displays 'A'                                                             |\n",
    "|#b, #o, #x|Type with notation | f'{10:#x}' displays '0xa'                                                                 |"
   ]
  },
  {
   "cell_type": "code",
   "execution_count": 4,
   "metadata": {},
   "outputs": [
    {
     "name": "stdout",
     "output_type": "stream",
     "text": [
      "Normal: 4.5\n",
      "Number: 4.5\n",
      "Exponent: 4.50e+00\n",
      "Fixed Point: 4.500\n",
      "Percentage: 450.0%\n"
     ]
    }
   ],
   "source": [
    "x = 4.5\n",
    "\n",
    "print(f'Normal: {x}')\n",
    "#print(f'String: {x:s}')\n",
    "#print(f'Decimal Integer: {x:d}')\n",
    "print(f'Number: {x:n}')\n",
    "print(f'Exponent: {x:.2e}')\n",
    "print(f'Fixed Point: {x:.3f}')\n",
    "print(f'Percentage: {x:.1%}')"
   ]
  },
  {
   "cell_type": "markdown",
   "metadata": {},
   "source": [
    "### Grouping options"
   ]
  },
  {
   "cell_type": "code",
   "execution_count": 4,
   "metadata": {},
   "outputs": [
    {
     "name": "stdout",
     "output_type": "stream",
     "text": [
      "{1000000:,.2f} displays 1,000,000.00\n",
      "{1000000:,d}   displays 1,000,000\n",
      "{1000000:_.2f} displays 1_000_000.00\n"
     ]
    }
   ],
   "source": [
    "print(f'{{1000000:,.2f}} displays {1000000:,.2f}')\n",
    "print(f'{{1000000:,d}}   displays {1000000:,d}')\n",
    "print(f'{{1000000:_.2f}} displays {1000000:_.2f}')"
   ]
  },
  {
   "cell_type": "markdown",
   "metadata": {},
   "source": [
    "### Escape Characters"
   ]
  },
  {
   "cell_type": "code",
   "execution_count": 48,
   "metadata": {
    "scrolled": true
   },
   "outputs": [
    {
     "name": "stdout",
     "output_type": "stream",
     "text": [
      "Use double {{ and }} brackets to escape those {} brackets\n",
      "Use \\ to escape ' single quotes and \\ backslashes\n"
     ]
    }
   ],
   "source": [
    "print(f'Use double {{{{ and }}}} brackets to escape those {{}} brackets')\n",
    "print(f'Use \\\\ to escape \\' single quotes and \\\\ backslashes')"
   ]
  },
  {
   "cell_type": "markdown",
   "metadata": {},
   "source": [
    "### Date Formatting\n",
    "\n",
    "Follows the normal strftime codes:\n",
    "\n",
    "|Code | Meaning                                       | Example                  |\n",
    "| :-: | :-------------------------------------------- |:------------------------ |\n",
    "| %a  | Abbreviated weekday name                      | Sun, Mon, ...            |\n",
    "| %A  | Full weekday name                             | Sunday, Monday, ...      |\n",
    "| %w  | Weekday as a decimal                          | 0, 1, ..., 6             |\n",
    "| %d  | Day of the month as a zero-padded decimal     | 01, 02, ..., 31          |\n",
    "| %-d | Day of the month as a decimal                 | 1, 2, ..., 30            |\n",
    "| %b  | Abbreviated month name                        | Jan, Feb, ..., Dec       |\n",
    "| %B  | Full Month Name                               | January, February, ...   |\n",
    "| %m  | Month as a zero padded decimal                | 01, 02, ..., 12          |\n",
    "| %-m | Month as a decimal                            | 1, 2, ..., 12            |\n",
    "| %y  | Year without century as a zero-padded decimal | 00, 01, ..., 99          |\n",
    "| %-y | Year without century as a decimal             | 0, 1, ..., 99            |\n",
    "| %Y  | Year with century as a decimal                | 2013, 2021, etc.         |\n",
    "| %H  | Hour (24-hour clock) as a zero-padded decimal | 00, 01, ..., 23          |\n",
    "| %-H | Hour (24-hour clock) as a decimal             | 0, 1, ..., 23            |\n",
    "| %I  | Hour (12-hour clock) as a zero-padded decimal | 01, 02, ..., 12          |\n",
    "| %-I | Hour (12-hour clock) as a decimal             | 1, 2, ..., 12            |\n",
    "| %p  | Locale's AM or PM                             | AM, PM                   |\n",
    "| %M  | Minute as a zero-padded decimal               | 00, 01, ..., 59          |\n",
    "| %-M | Minute as a decimal number                    | 0, 1, ..., 59            |\n",
    "| %S  | Second as a zero-padded decimal               | 00, 01, ..., 59          |\n",
    "| %-S | Second as a decimal number                    | 0, 1, ..., 59            |\n",
    "| %f  | Microsecond as a zero-padded decimal          | 000000 - 999999          |\n",
    "| %z  | UTC offset                                    | +HHMM or -HHMM           |\n",
    "| %Z  | Time zone name                                |                          |\n",
    "| %j  | Day of the year as a zero-padded decimal      | 001, 002, ..., 366       | \n",
    "| %-j | Day of the year as a decimal                  | 1, 2, ..., 366           |\n",
    "| %U  | Week number of the year<br>(Sunday as the first day of the week) | 00, 01, ..., 53 |\n",
    "| %W  | Week number of the year<br>(Monday as the first day of the week) | 00, 01, ..., 53 | \n",
    "| %c  | Locale's date and time                        | Mon Sep 30 07:06:05 2013 |\n",
    "| %x  | Locale's appropriate date                     | 09/30/13                 |\n",
    "| %X  | Locale's appropriate time                     | 07:06:05                 |\n"
   ]
  },
  {
   "cell_type": "code",
   "execution_count": 11,
   "metadata": {},
   "outputs": [
    {
     "name": "stdout",
     "output_type": "stream",
     "text": [
      "Today is June 24, 2021\n",
      "The date and time is Thu Jun 24 22:56:36 2021\n",
      "The day of the week is Thursday\n"
     ]
    }
   ],
   "source": [
    "from datetime import datetime\n",
    "today = datetime.today()\n",
    "\n",
    "print(f\"Today is {today:%B %d, %Y}\")\n",
    "print(f\"The date and time is {today:%c}\")\n",
    "print(f\"The day of the week is {today:%A}\")\n"
   ]
  }
 ],
 "metadata": {
  "kernelspec": {
   "display_name": "Python 3",
   "language": "python",
   "name": "python3"
  },
  "language_info": {
   "codemirror_mode": {
    "name": "ipython",
    "version": 3
   },
   "file_extension": ".py",
   "mimetype": "text/x-python",
   "name": "python",
   "nbconvert_exporter": "python",
   "pygments_lexer": "ipython3",
   "version": "3.8.8"
  }
 },
 "nbformat": 4,
 "nbformat_minor": 4
}
