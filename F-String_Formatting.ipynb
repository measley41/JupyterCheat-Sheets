{
 "cells": [
  {
   "cell_type": "markdown",
   "metadata": {},
   "source": [
    "# F-string Formatting\n",
    "\n",
    "Sources:  \n",
    "[Jacqueline Masloff, PhD](http://cis.bentley.edu/sandbox/wp-content/uploads/Documentation-on-f-strings.pdf)  \n",
    "[Python: f-string formatting cheatsheet](https://myshell.co.uk/blog/2018/11/python-f-string-formatting-cheatsheet/)  \n",
    "[Python f-strings: Everything you need to know!](https://datagy.io/python-f-strings/)\n"
   ]
  },
  {
   "cell_type": "markdown",
   "metadata": {},
   "source": [
    "To use formatted string literals, begin a string with an **f** or **F** before the opening quotation mark or triple quotation mark.  Inside this string, you can write a Python expression between **{ }** characters that can refer to variables or literal values.    \n",
    "\n",
    "### Format specification:\n",
    "> \\[ \\[ fill ] align ] \\[ sign ] \\[ # ] \\[ 0 ] \\[ width ] \\[ grouping_option ] \\[ .precision ] \\[ type ]"
   ]
  },
  {
   "cell_type": "markdown",
   "metadata": {},
   "source": [
    "## Alignment and Fill\n",
    "\n",
    "\n",
    "`f'{\"test\":#>10}'`  \n",
    "\\# is any letter or number to be used for the fill  \n",
    "\\> for right alignment (see options below)  \n",
    "10 is for the number of characters to reserve for this field.\n",
    "\n",
    "| Option | Meaning |\n",
    "|:------:|:--------|\n",
    "|<       | left-aligned within the available space <br>(this is the default for most objects.)|\n",
    "|>       | right aligned within the available space <br>(this is the default for numbers.)    |\n",
    "|^       | center aligned                                                                     |\n",
    "|=       | For numbers, aligns the sign on the left and pads before the number, like '+0000120'.<br>It becomes the default when '0' immediately precedes the field width. |\n"
   ]
  },
  {
   "cell_type": "code",
   "execution_count": 22,
   "metadata": {},
   "outputs": [
    {
     "name": "stdout",
     "output_type": "stream",
     "text": [
      "Left Text           ###Centered Text###          Right Text\n"
     ]
    }
   ],
   "source": [
    "left_alignment = 'Left Text'\n",
    "right_alignment = 'Right Text'\n",
    "center_alignment = 'Centered Text'\n",
    "\n",
    "print(f'{left_alignment:<20}{center_alignment:#^19}{right_alignment:>20}')\n"
   ]
  },
  {
   "cell_type": "code",
   "execution_count": 26,
   "metadata": {
    "scrolled": true
   },
   "outputs": [
    {
     "name": "stdout",
     "output_type": "stream",
     "text": [
      "Name         Ages    Division   id   \n",
      "Bob           32        A     0001234\n",
      "Mary          40        B     0005748\n",
      "Dan           55        A     0002341\n",
      "Bubba         20        D     0009823\n"
     ]
    }
   ],
   "source": [
    "names = ['Bob', 'Mary', 'Dan', 'Bubba']\n",
    "ages = [32, 40, 55, 20]\n",
    "div = ['A', 'B', 'A', 'D']\n",
    "id = [1234, 5748, 2341, 9823]\n",
    "\n",
    "print(f\"{'Name':<10}{'Ages':^10}{'Division':^10}{'id':^7}\")\n",
    "\n",
    "for i in range(4):\n",
    "    print(f'{names[i]:<10}{ages[i]:^10}{div[i]:^10}{id[i]:0>7}')\n",
    "    "
   ]
  },
  {
   "cell_type": "code",
   "execution_count": 15,
   "metadata": {},
   "outputs": [
    {
     "name": "stdout",
     "output_type": "stream",
     "text": [
      "+    123.4\n",
      "+0000234.5\n"
     ]
    }
   ],
   "source": [
    "print(f\"{123.4:=+10}\")\n",
    "print(f\"{234.5:0=+10}\")"
   ]
  },
  {
   "cell_type": "markdown",
   "metadata": {},
   "source": [
    "### Sign (+/-)"
   ]
  },
  {
   "cell_type": "code",
   "execution_count": 13,
   "metadata": {},
   "outputs": [
    {
     "name": "stdout",
     "output_type": "stream",
     "text": [
      "{num:+} to show sign with positive and negative numbers\n",
      "+123\n",
      "-123\n",
      "\n",
      "{num:05} to pad with positive and negative numbers\n",
      "00123\n",
      "-0123\n",
      "\n",
      "{num:+010} or {num:0=+10} to pad with zeros and show sign\n",
      "+000000123\n",
      "+000000123\n",
      "-000000123\n",
      "-000000123\n",
      "\n",
      "{num:=+10} to pad and show sign without leading zeros\n",
      "+      123\n",
      "-      123\n"
     ]
    }
   ],
   "source": [
    "num = 123\n",
    "neg_num = -123\n",
    "print(f'{{num:+}} to show sign with positive and negative numbers')\n",
    "print(f'{num:+}')  \n",
    "print(f'{neg_num:+}')  \n",
    "print()  \n",
    "print(f'{{num:05}} to pad with positive and negative numbers')\n",
    "print(f'{num:05}')  \n",
    "print(f'{neg_num:05}')  \n",
    "print()  \n",
    "print(f'{{num:+010}} or {{num:0=+10}} to pad with zeros and show sign')\n",
    "print(f'{num:+010}')  \n",
    "print(f'{num:0=+10}')  \n",
    "print(f'{neg_num:+010}')  \n",
    "print(f'{neg_num:0=+10}')  \n",
    "print()  \n",
    "print(f'{{num:=+10}} to pad and show sign without leading zeros')  \n",
    "print(f'{num:=+10}')  \n",
    "print(f'{neg_num:=+10}')  \n"
   ]
  },
  {
   "cell_type": "markdown",
   "metadata": {},
   "source": [
    "### Data Types\n",
    "\n",
    "|Type| Meaning        | Description                                                                                        |\n",
    "|:--:|:---------------|:---------------------------------------------------------------------------------------------------|\n",
    "| s  | String format  | this is the default type for strings                                                               |\n",
    "| d  | Decimal integer| Outputs the number in base 10                                                                      |\n",
    "| n  | Number         | This is the same as **d** except that it uses the current locale setting to insert the appropriate number separator characters.                                                                                               |\n",
    "| e  | Exponent       | Prints the number in scientific notation using the letter 'e' to indicate the exponent.  The default precision is 6.                                                                                                            |\n",
    "| f  | Fixed-point    | Displays the number as a fixed-point number.  The default precision is 6.                          |\n",
    "| n  | Number         | This is the same as **g**, except that it uses the current locale setting to insert the appropriate number separator characters.                                                                                               |\n",
    "| %  | Percentage     | Multiplied the number by 100 and displays in fixed **('f')** format, followed by a percent sign    |\n",
    "| b  | Binary         | Converted to binary: f'{10:b}' displays '1010'                                                     |\n",
    "| x | Hex             | Converted to hex: f'{200:x}' displays 'c8'                                                         |   \n",
    "| o | Octal           | Converted to octal: f'{10:o}' displays '12'                                                        |\n",
    "| c | Character       | Character type: f'{65:c}' displays 'A'                                                             |\n",
    "|#b, #o, #x|Type with notation | f'{10:#x}' displays '0xa'                                                                 |"
   ]
  },
  {
   "cell_type": "code",
   "execution_count": 31,
   "metadata": {},
   "outputs": [
    {
     "name": "stdout",
     "output_type": "stream",
     "text": [
      "Normal: 4.5\n",
      "Number: 4.5\n",
      "Exponent: 4.50e+00\n",
      "Fixed Point: 4.500\n",
      "Percentage: 450.0%\n",
      "Currency: $4.50\n"
     ]
    }
   ],
   "source": [
    "x = 4.5\n",
    "\n",
    "print(f'Normal: {x}')\n",
    "#print(f'String: {x:s}')\n",
    "#print(f'Decimal Integer: {x:d}')\n",
    "print(f'Number: {x:n}')\n",
    "print(f'Exponent: {x:.2e}')\n",
    "print(f'Fixed Point: {x:.3f}')\n",
    "print(f'Percentage: {x:.1%}')  \n",
    "print(f'Currency: ${x:.2f}')"
   ]
  },
  {
   "cell_type": "markdown",
   "metadata": {},
   "source": [
    "### Grouping options"
   ]
  },
  {
   "cell_type": "code",
   "execution_count": 22,
   "metadata": {},
   "outputs": [
    {
     "name": "stdout",
     "output_type": "stream",
     "text": [
      "{1000000:,.2f} displays 1,000,000.00\n",
      "{1000000:_.2f} displays 1_000_000.00\n"
     ]
    }
   ],
   "source": [
    "print(f'{{1000000:,.2f}} displays {1000000:,.2f}')\n",
    "print(f'{{1000000:_.2f}} displays {1000000:_.2f}')"
   ]
  },
  {
   "cell_type": "markdown",
   "metadata": {},
   "source": [
    "### Escape Characters"
   ]
  },
  {
   "cell_type": "code",
   "execution_count": 48,
   "metadata": {
    "scrolled": true
   },
   "outputs": [
    {
     "name": "stdout",
     "output_type": "stream",
     "text": [
      "Use double {{ and }} brackets to escape those {} brackets\n",
      "Use \\ to escape ' single quotes and \\ backslashes\n"
     ]
    }
   ],
   "source": [
    "print(f'Use double {{{{ and }}}} brackets to escape those {{}} brackets')\n",
    "print(f'Use \\\\ to escape \\' single quotes and \\\\ backslashes')"
   ]
  },
  {
   "cell_type": "markdown",
   "metadata": {},
   "source": [
    "### Using f-strings with Dictionaries and Conditionals"
   ]
  },
  {
   "cell_type": "code",
   "execution_count": 30,
   "metadata": {},
   "outputs": [
    {
     "name": "stdout",
     "output_type": "stream",
     "text": [
      "Nik is male and he is 32 years old.\n",
      "Katie is female and she is 30 years old.\n"
     ]
    }
   ],
   "source": [
    "person1 = {\n",
    "    'name':'Nik',\n",
    "    'age': 32,\n",
    "    'gender': 'male'\n",
    "}\n",
    "\n",
    "person2 = {\n",
    "    'name': 'Katie',\n",
    "    'age': 30,\n",
    "    'gender': 'female'\n",
    "}\n",
    "\n",
    "people = [person1,person2]\n",
    "\n",
    "for person in people:\n",
    "    print(f\"{person.get('name')} is {person.get('gender')} and {'she' if person.get('gender')=='female' else 'he'} is {person.get('age')} years old.\")\n",
    "    "
   ]
  }
 ],
 "metadata": {
  "kernelspec": {
   "display_name": "Python 3",
   "language": "python",
   "name": "python3"
  },
  "language_info": {
   "codemirror_mode": {
    "name": "ipython",
    "version": 3
   },
   "file_extension": ".py",
   "mimetype": "text/x-python",
   "name": "python",
   "nbconvert_exporter": "python",
   "pygments_lexer": "ipython3",
   "version": "3.7.3"
  }
 },
 "nbformat": 4,
 "nbformat_minor": 4
}
