{
 "cells": [
  {
   "cell_type": "markdown",
   "id": "5bee54d0",
   "metadata": {},
   "source": [
    "# Python Classes\n",
    "from [A Comprehensive Guide for Classes in Python](https://towardsdatascience.com/a-comprehensive-guide-for-classes-in-python-e6bb72a25a5e) by [Soner Yildirim](https://sonery.medium.com)  \n",
    "and [How to Use Python Classes Effectively](https://towardsdatascience.com/how-to-use-python-classes-effectively-10b42db8d7bd) by [Rhea Moutafis](https://rheamoutafis.medium.com/)  \n",
    "\n",
    "<a id = 'Contents'></a>\n",
    "## Contents\n",
    "- [What is a class in Python?](#What_Is)    \n",
    "- [Creating a class](#Creating)  \n",
    "- [Defining class methods](#Methods)  \n",
    "- [Class vs instance variables](#Class_vs_Instance)    \n",
    "- [Creating a child class](#child)  \n",
    "\n",
    "\n",
    "- [Python classes: the very basics](#basics)"
   ]
  },
  {
   "cell_type": "markdown",
   "id": "e9a1eddf",
   "metadata": {},
   "source": [
    "<a id='What_Is'></a>\n",
    "### What is a class in Python?\n",
    "\n",
    "Classes possess the following information:  \n",
    "- Data attributes: What is needed to create an instance of a class\n",
    "- Methods (i.e. procedural attributes): How we interact with instances of a class.  \n"
   ]
  },
  {
   "cell_type": "markdown",
   "id": "6e54b402",
   "metadata": {},
   "source": [
    "[Return To Top](#Contents)\n",
    "<a id = 'Creating'></a>\n",
    "### Creating a Class\n",
    "\n",
    "The following code creates a class called Book:"
   ]
  },
  {
   "cell_type": "code",
   "execution_count": null,
   "id": "2268e5a5",
   "metadata": {},
   "outputs": [],
   "source": [
    "class Book():\n",
    "    def __init__(self, name, writer, word_length):\n",
    "        self.name = name\n",
    "        self.writer = writer\n",
    "        self.word_length = word_length"
   ]
  },
  {
   "cell_type": "markdown",
   "id": "7c177217",
   "metadata": {},
   "source": [
    "The `__init__` is a special function that is automatically executed when an instance of a class is created.  It is also called the *class constructor*.  \n",
    "\n",
    "The parameters of the init function represent the data attributes of a class.  \n",
    "Thus, if we need to specify the arguments for name, writer, and length parameters to create an instance of Book.  \n",
    "> **Note**: Self refers to the instance istself.  You can use any word instead of 'self' but it is a highly common practice to use 'self'.\n",
    "\n",
    "Let's create an instance:"
   ]
  },
  {
   "cell_type": "code",
   "execution_count": null,
   "id": "82c612a1",
   "metadata": {},
   "outputs": [],
   "source": [
    "b1 = Book('Pandas', 'John Doe', 100000)\n",
    "\n",
    "print(type(b1))"
   ]
  },
  {
   "cell_type": "markdown",
   "id": "eac6784f",
   "metadata": {},
   "source": [
    "b1 is an object that belongs to the Book class.  We can confirm it by using the type function which returns the type of an object.  \n",
    "We can access or modify the attributes of a class using the following way:"
   ]
  },
  {
   "cell_type": "code",
   "execution_count": null,
   "id": "8158b2b7",
   "metadata": {},
   "outputs": [],
   "source": [
    "print(f\"b1's name is {b1.name}.\")\n",
    "b1.name = 'NumPy'  #updates the name attribute\n",
    "\n",
    "print(f\"Now b1's name is {b1.name}.\")"
   ]
  },
  {
   "cell_type": "markdown",
   "id": "86b3e396",
   "metadata": {},
   "source": [
    "[Return To Top](#Contents)\n",
    "<a id='Methods'></a>\n",
    "### Defining Class Methods\n",
    "\n",
    "The Book class only has data attributes.  Adding methods make it more useful and functional.  \n",
    "For instance, we can implement a method that returns the number of pages given the fontsize.  We specify the length of the book in number of words.  The method will calculate the number of pages based on the length and fontsize."
   ]
  },
  {
   "cell_type": "code",
   "execution_count": null,
   "id": "bf7d22e1",
   "metadata": {},
   "outputs": [],
   "source": [
    "class Book():\n",
    "    def __init__(self, name, writer, word_length):\n",
    "        self.name = name\n",
    "        self.writer = writer\n",
    "        self.word_length = word_length\n",
    "        \n",
    "    def number_of_pages(self, fontsize=12):\n",
    "        word_length = self.word_length\n",
    "        if fontsize==12:\n",
    "            words_in_page = 300\n",
    "        else:\n",
    "            words_in_page = 300 - (fontsize-12)*10\n",
    "        return round(word_length / words_in_page)"
   ]
  },
  {
   "cell_type": "markdown",
   "id": "8635716f",
   "metadata": {},
   "source": [
    "If a function we declare inside a class definition needs to access data attributes of an instance, we need to tell the function how to access them.  This is what we did in the first line of the number_of_pages function.  \n",
    "\n",
    "We can access a method from the class or the instance.  Here is a simple example that demonstrates both ways."
   ]
  },
  {
   "cell_type": "code",
   "execution_count": null,
   "id": "70343e55",
   "metadata": {},
   "outputs": [],
   "source": [
    "b1 = Book(\"Pandas\", \"John Doe\", 100000)\n",
    "\n",
    "print(b1.number_of_pages())\n",
    "\n",
    "print(Book.number_of_pages(b1))"
   ]
  },
  {
   "cell_type": "markdown",
   "id": "40e6f40d",
   "metadata": {},
   "source": [
    "The number_of_pages function has an additional fontsize parameter.  Since a default value (12) is specified, we do not have to explicity write it.  \n",
    "However, we can use a different value for the fontsize parameter."
   ]
  },
  {
   "cell_type": "code",
   "execution_count": null,
   "id": "33316ccb",
   "metadata": {},
   "outputs": [],
   "source": [
    "print(b1.number_of_pages(14))\n",
    "\n",
    "print(b1.number_of_pages(fontsize=16))"
   ]
  },
  {
   "cell_type": "markdown",
   "id": "7be1e7a7",
   "metadata": {},
   "source": [
    "As the fontsize increases, the number of pages also increases which make sense.  \n",
    "\n",
    "There are certain methods that we need to define for our class in order to use some built-in functions of Python.  Consider the print function."
   ]
  },
  {
   "cell_type": "code",
   "execution_count": null,
   "id": "010baf10",
   "metadata": {},
   "outputs": [],
   "source": [
    "print(b1)"
   ]
  },
  {
   "cell_type": "markdown",
   "id": "f5eac60b",
   "metadata": {},
   "source": [
    "The print function returns the type and the memory location of the object by default.  However, we can customize its behavior by implementing the `__str__` method in our class.  \n",
    "\n",
    "We add the `__str__` method in our class definition above:"
   ]
  },
  {
   "cell_type": "code",
   "execution_count": null,
   "id": "e20f0ed1",
   "metadata": {},
   "outputs": [],
   "source": [
    "class Book():\n",
    "    def __init__(self, name, writer, word_length):\n",
    "        self.name = name\n",
    "        self.writer = writer\n",
    "        self.word_length = word_length\n",
    "        \n",
    "    def __str__(self):\n",
    "        return \"<\" + self.name + \", by\" + self.writer + \">\"\n",
    "        \n",
    "    def number_of_pages(self, fontsize=12):\n",
    "        word_length = self.word_length\n",
    "        if fontsize==12:\n",
    "            words_in_page = 300\n",
    "        else:\n",
    "            words_in_page = 300 - (fontsize-12)*10\n",
    "        return round(word_length / words_in_page)"
   ]
  },
  {
   "cell_type": "code",
   "execution_count": null,
   "id": "f1abb83c",
   "metadata": {},
   "outputs": [],
   "source": [
    "b1 = Book(\"Pandas\", \"John Doe\", 100000)\n",
    "print(b1)"
   ]
  },
  {
   "cell_type": "markdown",
   "id": "cd69ae59",
   "metadata": {},
   "source": [
    "[Return to Top](#Contents)\n",
    "<a id='Class_vs_Instance'></a>\n",
    "### Class vs Instance Variables\n",
    "\n",
    "Class variables are declared inside a class but outside of any function.  \n",
    "Instance variables are declared inside the constructor which is the `__init__` method.  \n",
    "\n",
    "The class variables are more general and likely apply to all of the instances of a class.  On the other hand, instance variables are more specific and defined for each instance separately.  Having a distinction between class and instance variables is quite useful.  \n",
    "\n",
    "Consider the Book class we defined earlier.  We run a publishing company and have some standards for the books we publish such as page width and color for the cover.  If we define them as class variables, we do not have to explicity declare for each instance created."
   ]
  },
  {
   "cell_type": "code",
   "execution_count": null,
   "id": "0064cc2d",
   "metadata": {},
   "outputs": [],
   "source": [
    "class Book():\n",
    "    page_width = 14\n",
    "    cover_color = 'blue'\n",
    "    \n",
    "    def __init__(self, name, writer, word_length):\n",
    "        self.name = name\n",
    "        self.writer = writer\n",
    "        self.word_length = word_length\n",
    "        \n",
    "    def __str__(self):\n",
    "        return \"<\" + self.name + \", by\" + self.writer + \">\"\n",
    "        \n",
    "    def number_of_pages(self, fontsize=12):\n",
    "        word_length = self.word_length\n",
    "        if fontsize==12:\n",
    "            words_in_page = 300\n",
    "        else:\n",
    "            words_in_page = 300 - (fontsize-12)*10\n",
    "        return round(word_length / words_in_page)"
   ]
  },
  {
   "cell_type": "markdown",
   "id": "145d0038",
   "metadata": {},
   "source": [
    "We have implemented the page_width and cover_color as class variables because they are inside the class definition but outisde any function definition.  \n",
    "\n",
    "Let's create an instance of the Book class."
   ]
  },
  {
   "cell_type": "code",
   "execution_count": null,
   "id": "aa3568f0",
   "metadata": {},
   "outputs": [],
   "source": [
    "b2 = Book(\"Machine Learning\", \"Jane Doe\", 120000)"
   ]
  },
  {
   "cell_type": "markdown",
   "id": "7c0b04b8",
   "metadata": {},
   "source": [
    "We have not specified the class variables while creating this instance.  However, the b2 possesses these variables and we can access them."
   ]
  },
  {
   "cell_type": "code",
   "execution_count": null,
   "id": "5368ec8a",
   "metadata": {},
   "outputs": [],
   "source": [
    "print(b2.page_width)\n",
    "print(b2.cover_color)"
   ]
  },
  {
   "cell_type": "markdown",
   "id": "6c0e85bd",
   "metadata": {},
   "source": [
    "We have the option to change the class variables for a particular instance."
   ]
  },
  {
   "cell_type": "code",
   "execution_count": null,
   "id": "ec8a31b4",
   "metadata": {},
   "outputs": [],
   "source": [
    "b2.cover_color = 'red'\n",
    "\n",
    "b2.cover_color"
   ]
  },
  {
   "cell_type": "markdown",
   "id": "451abcc5",
   "metadata": {},
   "source": [
    "The changes on a particular instance to not have any effect on the class variable."
   ]
  },
  {
   "cell_type": "code",
   "execution_count": null,
   "id": "86f43df0",
   "metadata": {},
   "outputs": [],
   "source": [
    "Book.cover_color"
   ]
  },
  {
   "cell_type": "markdown",
   "id": "d0e8b2d8",
   "metadata": {},
   "source": [
    "However, this approach to changing attributes is not recommended.  Instead, we can implement methods to get and set the attribut values (aka getters and setters)"
   ]
  },
  {
   "cell_type": "code",
   "execution_count": null,
   "id": "db929f3d",
   "metadata": {},
   "outputs": [],
   "source": [
    "class Book():\n",
    "    page_width = 14\n",
    "    cover_color = 'blue'\n",
    "    \n",
    "    def __init__(self, name, writer, word_length):\n",
    "        self.name = name\n",
    "        self.writer = writer\n",
    "        self.word_length = word_length\n",
    "        \n",
    "    def __str__(self):\n",
    "        return \"<\" + self.name + \", by\" + self.writer + \">\"\n",
    "        \n",
    "    def number_of_pages(self, fontsize=12):\n",
    "        word_length = self.word_length\n",
    "        if fontsize==12:\n",
    "            words_in_page = 300\n",
    "        else:\n",
    "            words_in_page = 300 - (fontsize-12)*10\n",
    "        return round(word_length / words_in_page)\n",
    "    \n",
    "    def set_cover_color(self, cover_color):\n",
    "        self.cover_color = cover_color\n",
    "        \n",
    "    def get_cover_color(self):\n",
    "        return self.cover_color\n",
    "\n",
    "b2 = Book(\"Machine Learning\", \"Jane Doe\", 120000)"
   ]
  },
  {
   "cell_type": "code",
   "execution_count": null,
   "id": "f96b8ab3",
   "metadata": {},
   "outputs": [],
   "source": [
    "print(b2.get_cover_color())\n",
    "b2.set_cover_color(\"purple\")\n",
    "print(b2.get_cover_color())"
   ]
  },
  {
   "cell_type": "markdown",
   "id": "0d1cd82b",
   "metadata": {},
   "source": [
    "[Return to Top](#Contents)\n",
    "<a id='child'></a>\n",
    "### Creating a Child Class\n",
    "We can create a child class based on a different class.  Let's create a class called \"ColorBook\" based on the \"Book\" class. \n",
    "\n",
    "```\n",
    "class ColorBook(Book):\n",
    "```"
   ]
  },
  {
   "cell_type": "markdown",
   "id": "49d9dac9",
   "metadata": {},
   "source": [
    "The ColorBook is a child class of the Book class.  When we create a class in this way, the child class copies the attributes (both data and procedural) from the parent class.  This concept is called **inheritance** which makes the OOP more efficient and powerful.  \n",
    "\n",
    "It is similar to inheritance in real life.  Most of our genome come from our parents or ancestors.  We inherit from them.  Thus, we have similarities with our parents.  \n",
    "\n",
    "A child class can have new attributes in addition to the ones inherited from the parent class.  Furthermore, we have the option to modify or override the inherited attributes.  \n",
    "\n",
    "Let's define the `__init__` function of the ColorBook class.  It will have two additional parameters which are \"color\" indication of the color of pages and \"has_image\" indicating if there are images in the book."
   ]
  },
  {
   "cell_type": "code",
   "execution_count": null,
   "id": "97ff0fd8",
   "metadata": {},
   "outputs": [],
   "source": [
    "class ColorBook(Book):\n",
    "    \n",
    "    def __init__(self, name, writer, word_length, color, has_image):\n",
    "        Book.__init__(self, name, writer, word_length)\n",
    "        self.color = color\n",
    "        self.has_image = has_image"
   ]
  },
  {
   "cell_type": "markdown",
   "id": "5e00cfd2",
   "metadata": {},
   "source": [
    "Since the name, writer, and word_length have already been defined in the Book class, we can just copy the `__init__` method from it.  We just need to define the additional attributes.  \n",
    "\n",
    "**Note:** We are free to define each data attribute manually for the child class.  \n",
    "Using the `__init__` of the parent is optional.  \n",
    "\n",
    "Let's create an instance of the ColorBook class."
   ]
  },
  {
   "cell_type": "code",
   "execution_count": null,
   "id": "3d30ba46",
   "metadata": {},
   "outputs": [],
   "source": [
    "c1 = ColorBook(\"Seaborn\", \"John Doe\", 90000, \"green\", True)\n",
    "\n",
    "print(c1.name)\n",
    "print(c1.color)"
   ]
  },
  {
   "cell_type": "markdown",
   "id": "d79f99b7",
   "metadata": {},
   "source": [
    "The child class also inherits the class variables."
   ]
  },
  {
   "cell_type": "code",
   "execution_count": null,
   "id": "4d6fe8a8",
   "metadata": {},
   "outputs": [],
   "source": [
    "print(c1.cover_color)\n",
    "print(c1.page_width)"
   ]
  },
  {
   "cell_type": "markdown",
   "id": "e695465e",
   "metadata": {},
   "source": [
    "The methods are also copied from the parent class.  For the Book class, we defined two methos that can also be used on the instances of the ColorBook class."
   ]
  },
  {
   "cell_type": "code",
   "execution_count": null,
   "id": "3a73ef67",
   "metadata": {},
   "outputs": [],
   "source": [
    "print(c1.number_of_pages())\n",
    "\n",
    "print(c1)"
   ]
  },
  {
   "cell_type": "markdown",
   "id": "5e67f596",
   "metadata": {},
   "source": [
    "We have the option to override the data and procedural attributes (i.e. methods) inherited from the parent class.  This makes the inheritance even more powerful because we are obligated to use everything in the parent class.  \n",
    "\n",
    "For instance, we can modify the `__str__` method for the ColorBook class."
   ]
  },
  {
   "cell_type": "code",
   "execution_count": null,
   "id": "b7616376",
   "metadata": {},
   "outputs": [],
   "source": [
    "class ColorBook(Book):\n",
    "    \n",
    "    def __init__(self, name, writer, word_length, color, has_image):\n",
    "        Book.__init__(self, name, writer, word_length)\n",
    "        self.color = color\n",
    "        self.has_image = has_image\n",
    "        \n",
    "    def __str__(self):\n",
    "        return \"<\" + self.name + \", in \" + self.color + \">\""
   ]
  },
  {
   "cell_type": "markdown",
   "id": "f3c495a2",
   "metadata": {},
   "source": [
    "The print function will return the name of the book and its color."
   ]
  },
  {
   "cell_type": "code",
   "execution_count": null,
   "id": "dfcff136",
   "metadata": {},
   "outputs": [],
   "source": [
    "c1 = ColorBook(\"Seaborn\", \"John Doe\", 90000, \"green\", True)\n",
    "\n",
    "print(c1)"
   ]
  },
  {
   "cell_type": "markdown",
   "id": "e03dc446",
   "metadata": {},
   "source": [
    "[Return to Top](#Contents)\n",
    "<a id='basics'></a>\n",
    "### Python classes: the very basics \n",
    "\n",
    "Classes are objects that allow you to group data structures and procedures in one place.  For example, imagine you're writing a piece of code to organize the inventory of a clothes shop.  \n",
    "\n",
    "You could create a class that takes each item of clothing in the shop, and stores key quantities such as the type of clothing, and its color and size.  We'll add an option to add a price, too.  "
   ]
  },
  {
   "cell_type": "code",
   "execution_count": null,
   "id": "5b4a8e95",
   "metadata": {},
   "outputs": [],
   "source": [
    "class Clothing(object):\n",
    "    def __init__(self, type, color, size, price=None):\n",
    "        self.type = type\n",
    "        self.color = color\n",
    "        self.size = size\n",
    "        self.price = price"
   ]
  },
  {
   "cell_type": "markdown",
   "id": "ae23ee53",
   "metadata": {},
   "source": [
    "Now, we can define various instances of the class and keep them organized:"
   ]
  },
  {
   "cell_type": "code",
   "execution_count": null,
   "id": "48f4908b",
   "metadata": {},
   "outputs": [],
   "source": [
    "bluejeans = Clothing(\"jeans\", \"blue\", 12)\n",
    "redtshirt = Clothing(\"t-shirt\", \"red\", 10, 10)"
   ]
  },
  {
   "cell_type": "markdown",
   "id": "35d72299",
   "metadata": {},
   "source": [
    "We would add these two lines without indent, after the definition of the class.  The code will run, but it's not doing very much.    \n",
    "\n",
    "We can add a method to set the price directly underneath the `__init__` function, within the class definition.\n",
    "\n",
    "We could also add some routines to tell us the price, or to promote an item by reducing the price:"
   ]
  },
  {
   "cell_type": "code",
   "execution_count": null,
   "id": "9c55f2f8",
   "metadata": {},
   "outputs": [],
   "source": [
    "class Clothing(object):\n",
    "    def __init__(self, type, color, size, price=None):\n",
    "        self.type = type\n",
    "        self.color = color\n",
    "        self.size = size\n",
    "        self.price = price\n",
    "        \n",
    "    def set_price(self, price):\n",
    "        \"\"\"Set the price of an item of clothing.\"\"\"\n",
    "        self.price = price\n",
    "        print(f\"Setting the price of the {self.color} {self.type} to ${price}.\")\n",
    "        \n",
    "    def get_price(self):\n",
    "        \"\"\"Get the price of an item of clothing, if price is set.\"\"\"\n",
    "        try:\n",
    "            print(f\"The {self.color} {self.type} costs ${self.price}.\")\n",
    "        except:\n",
    "            print(f\"The price of the {self.color} {self.type} hasn't been set yet!\")\n",
    "            \n",
    "    def promote(self, percentage):\n",
    "        \"\"\"Lower the price, if initial price is set.\"\"\"\n",
    "        try:\n",
    "            self.price = self.price * (1-percentage/100)\n",
    "            print(f\"The price of the {self.color} {self.type} has been reduced by {percentage} percent!  It now only costs ${self.price:.0f}.\")\n",
    "        except:\n",
    "            print(f\"Oops.  Set an initial price first!\")\n",
    "            \n",
    "bluejeans = Clothing(\"jeans\", \"blue\", 12)\n",
    "redtshirt = Clothing(\"t-shirt\", \"red\", 10, 10)"
   ]
  },
  {
   "cell_type": "markdown",
   "id": "7bff1c5c",
   "metadata": {},
   "source": [
    "Now we can add some calls of our methods after the lines where we've initialized the instances of the class:"
   ]
  },
  {
   "cell_type": "code",
   "execution_count": null,
   "id": "524e91e3",
   "metadata": {},
   "outputs": [],
   "source": [
    "print(\"blue jeans --------------------\")\n",
    "bluejeans.promote(20)\n",
    "bluejeans.set_price(30)\n",
    "bluejeans.get_price()"
   ]
  },
  {
   "cell_type": "code",
   "execution_count": null,
   "id": "3a0f81fc",
   "metadata": {},
   "outputs": [],
   "source": [
    "print(\"red t-shirt --------------------\")\n",
    "redtshirt.get_price()\n",
    "redtshirt.promote(20)"
   ]
  },
  {
   "cell_type": "markdown",
   "id": "0a0afcae",
   "metadata": {},
   "source": [
    "If you need to add more routines, you can just put them in the class definition.  \n",
    "\n",
    "The nicest part of all of this is that you can add and delete as many objects as you like.  Deleting an attribute goes like so:"
   ]
  },
  {
   "cell_type": "code",
   "execution_count": null,
   "id": "fdddcbd0",
   "metadata": {},
   "outputs": [],
   "source": [
    "del redtshirt.price"
   ]
  },
  {
   "cell_type": "markdown",
   "id": "279b9fa5",
   "metadata": {},
   "source": [
    "And if you want to delete an entire object, you do like so:"
   ]
  },
  {
   "cell_type": "code",
   "execution_count": null,
   "id": "475e7f42",
   "metadata": {},
   "outputs": [],
   "source": [
    "del redtshirt"
   ]
  },
  {
   "cell_type": "markdown",
   "id": "39477da3",
   "metadata": {},
   "source": [
    "All of this is neat, simple, and expandable.  Try doing this implementation with standard functions, and you'll probably have a lot more trouble dealing with it.  \n",
    "\n",
    "From a theoretical point of view, there are more reasons why Python classes are a beautiful concept in many situations."
   ]
  },
  {
   "cell_type": "markdown",
   "id": "4b73d970",
   "metadata": {},
   "source": []
  }
 ],
 "metadata": {
  "jupytext": {
   "formats": "ipynb,py:percent",
   "text_representation": {
    "extension": ".py",
    "format_name": "percent",
    "format_version": "1.3",
    "jupytext_version": "1.11.4"
   }
  },
  "kernelspec": {
   "display_name": "Python 3",
   "language": "python",
   "name": "python3"
  },
  "language_info": {
   "codemirror_mode": {
    "name": "ipython",
    "version": 3
   },
   "file_extension": ".py",
   "mimetype": "text/x-python",
   "name": "python",
   "nbconvert_exporter": "python",
   "pygments_lexer": "ipython3",
   "version": "3.8.10"
  }
 },
 "nbformat": 4,
 "nbformat_minor": 5
}
